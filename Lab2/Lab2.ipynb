{
 "cells": [
  {
   "cell_type": "markdown",
   "metadata": {},
   "source": [
    "<div align=\"center\">\n",
    "    \n",
    "# ΠΑΝΕΠΙΣΤΗΜΙΟ ΚΡΗΤΗΣ\n",
    "# Τμήμα Επιστήμης Υπολογιστών\n",
    "\n",
    "## HY-370: Ψηφιακή Επεξεργασία Σημάτων\n",
    "## Χειμερινό Εξάμηνο 2023-2024\n",
    "### Διδάσκοντες: Γ. Στυλιανού, Γ. Καφεντζής\n",
    "\n",
    "## Ανάθεση: 16 Οκτωβρίου 2023\n",
    "## Παράδοση: 2 Νοέμβρη 2023, 23:59:59\n",
    "(ο τρόπος παράδοσης βρίσκεται στο τέλος του αρχείου αυτού)"
   ]
  },
  {
   "cell_type": "code",
   "execution_count": null,
   "metadata": {
    "collapsed": false,
    "deletable": true,
    "editable": true
   },
   "outputs": [],
   "source": [
    "import numpy as np\n",
    "import matplotlib.pyplot as plt\n",
    "import matplotlib.image as mpimg\n",
    "from IPython.display import Audio      # βιβιοθήκη για να \"παίζουμε\" ήχους (μεταξύ άλλων)\n",
    "from scipy import signal\n",
    "from scipy.io import wavfile\n",
    "import time"
   ]
  },
  {
   "cell_type": "markdown",
   "metadata": {
    "collapsed": true,
    "deletable": true,
    "editable": true
   },
   "source": [
    "# Άσκηση 1 - Διόρθωση σφαλμάτων σε ψηφιακές εικόνες (50 μ.)"
   ]
  },
  {
   "cell_type": "markdown",
   "metadata": {
    "deletable": true,
    "editable": true
   },
   "source": [
    "Τα συστήματα DVD αποθηκεύουν τις εικόνες που αποτελούν ένα video με μορφή σειρών από ψηφιακούς αριθμούς. Αν υπάρχει κάποιο πρόβλημα στο δισκάκι (ελαφρά γρατζουνιά, φθορά, σκόνη), το σύστημα του DVD προσπαθεί να \"καθαρίσει\" το δίσκο από το πρόβλημα χρησιμοποιώντας φίλτρα (δηλ. συστήματα διακριτού χρόνου που περιγράφονται ως εξισώσεις διαφορών!!!). Εδώ θα εξετάσουμε δυο τέτοια απλά συστήματα.\n",
    "* Το πρώτο είναι το φίλτρο **κυλιόμενης μέσης τιμής (moving average)**. Συγκεκριμένα, θα χρησιμοποιήσουμε ένα τέτοιο φίλτρο τριών σημείων (3-point Moving Average - Κυλιόμενης Μέσης Τιμής τριών σημείων), το οποίο έχετε δει στις διαλέξεις:\n",
    "$$ y[n] = \\frac{1}{3}x[n+1] + \\frac{1}{3}x[n] + \\frac{1}{3}x[n-1] = \\frac{1}{3}\\sum_{k=-1}^{1} x[n-k] \\tag{1}$$\n",
    "* Το δεύτερο είναι ένα φίλτρο **μεσαίας τιμής (median filter)**, επίσης τριών σημείων:\n",
    "$$ y[n] = \\textrm{median}(x[n+1], x[n], x[n-1]) \\tag{2}$$\n",
    "το οποίο επιλέγει τη μεσαία τιμή (ταξινομώντας τα δείγματα εισόδου κατά αύξουσα σειρά). Παρατηρήστε ότι και τα δυο φίλτρα απαιτούν μόνο $3$ τιμές της εισόδου για να παράξουν μια τιμή της εξόδου."
   ]
  },
  {
   "cell_type": "markdown",
   "metadata": {
    "deletable": true,
    "editable": true
   },
   "source": [
    "i. Χρησιμοποιώντας την εντολή \n",
    "\n",
    "    A = mpimg.imread('Saturn.tif')\n",
    "\n",
    "διαβάστε την εικόνα Saturn.tif που σας δίνεται στα αρχεία του εργαστηρίου. Δείτε τη με την εντολή \n",
    "\n",
    "    plt.imshow(A, cmap=plt.get_cmap('gray'))\n",
    "    plt.show()\n",
    "\n",
    "Υποθέστε ότι αυτή είναι μια καθαρή εικόνα από ένα DVD δίσκο."
   ]
  },
  {
   "cell_type": "markdown",
   "metadata": {
    "deletable": true,
    "editable": true
   },
   "source": [
    "## Απάντηση:"
   ]
  },
  {
   "cell_type": "code",
   "execution_count": 2,
   "metadata": {
    "collapsed": false,
    "deletable": true,
    "editable": true
   },
   "outputs": [],
   "source": [
    "# Insert code here\n",
    "\n",
    "\n",
    "\n",
    "\n"
   ]
  },
  {
   "cell_type": "markdown",
   "metadata": {
    "deletable": true,
    "editable": true
   },
   "source": [
    "ii. Χρησιμοποιώντας την εντολή \n",
    "\n",
    "    B = mpimg.imread('NoiseSaturn.tif')\n",
    "\n",
    "διαβάστε την εικόνα NoiseSaturn.tif. Δείτε τη με την εντολή \n",
    "\n",
    "    plt.imshow(B, cmap=plt.get_cmap('gray'))\n",
    "    plt.show()\n",
    "\n",
    "Ο θόρυβος που βλέπετε να έχει προστεθεί στην εικόνα ονομάζεται *salt and pepper noise* (θόρυβος \"αλάτι και πιπέρι\", λόγω της μορφής του). Υποθέστε ότι προήλθε από σφάλμα ανάγνωσης του δίσκου DVD λόγω φθοράς."
   ]
  },
  {
   "cell_type": "code",
   "execution_count": null,
   "metadata": {
    "collapsed": false,
    "deletable": true,
    "editable": true
   },
   "outputs": [],
   "source": [
    "# Insert code here\n",
    "\n",
    "\n",
    "\n",
    "\n"
   ]
  },
  {
   "cell_type": "markdown",
   "metadata": {
    "deletable": true,
    "editable": true
   },
   "source": [
    "iii. Προσπαθήστε να εφαρμόσετε τα παραπάνω φίλτρα για να καθαρίσετε την εικόνα B. Σκεφτείτε ότι η εικόνα είναι ένας πίνακας $M$ x $N$, που σας είναι γνωστά. Κάθε τιμή του πίνακα αποτελεί ένα \n",
    "pixel της εικόνας. Εφαρμόστε τα φίλτρα σας κατά γραμμές ή κατά στήλες του πίνακα. Θεωρήστε ότι κάθε γραμμή (ή στήλη) αποτελεί ένα μονοδιάστατο σήμα $x[n]$ για τις παραπάνω εξισώσεις, το οποίο πρέπει να διατρέχετε σε τριάδες, με μετατόπιση ένα δείγμα κάθε φορά. Η έξοδος $y[n]$ θα είναι μια αριθμητική τιμή την οποία θα αποθηκεύσετε σε έναν πίνακα C, στην κατάλληλη θέση. Προσέξτε το type casting μεταξύ των εικόνων όταν τις απεικονίζετε (ο κώδικας παρακάτω βοηθά σε αυτό). \n",
    "\n",
    "Συνίσταται να ακολουθήστε τον παρακάτω κώδικα-σκελετό που αφορά το φίλτρο της Σχέσης (1) εφαρμοσμένο στις γραμμές της εικόνας:"
   ]
  },
  {
   "cell_type": "markdown",
   "metadata": {
    "deletable": true,
    "editable": true
   },
   "source": [
    "    # Initialize C\n",
    "    M = B.shape[0]\n",
    "    N = B.shape[1]\n",
    "    C = np.zeros((M,N))\n",
    "\n",
    "    #  Cast to double for processing\n",
    "    B = B.astype(float)\n",
    "\n",
    "    #  Apply a moving average (MA) filter in every row\n",
    "    for i in range(0,M):          # Process rows B[i,:]\n",
    "         for j in range(1,N-1):     # Why from 1 to N-1 and not from 0 to N?\n",
    "            x = # INSERT CODE HERE - use B matrix to get \n",
    "                # triads of data of row i\n",
    "            y = # INSERT CODE HERE - use x vector to implement \n",
    "                # your filter\n",
    "            C[i,j] = y              # Store result in another matrix\n",
    "\n",
    "    #  Cast it to unsigned int\n",
    "    C = C.astype(np.uint8)\n",
    "\n",
    "    #  Show the result\n",
    "    plt.figure\n",
    "    plt.imshow(C, cmap=plt.get_cmap('gray'))\n",
    "    plt.title('MA-filtered image in rows')\n",
    "    plt.show()"
   ]
  },
  {
   "cell_type": "markdown",
   "metadata": {
    "deletable": true,
    "editable": true
   },
   "source": [
    "Μπορείτε αν θέλετε να χρησιμοποιήσετε τις συναρτήσεις $\\textrm{sum}$, $\\textrm{mean}$, $\\textrm{median}$, αλλά **μόνο αυτές**. Με όμοια φιλοσοφία φιλτράρετε κατά στήλες με το ίδιο φίλτρο (προσέξτε το indexing στους βρόχους επανάληψης), και στη συνέχεια κάνετε τα ίδια για το φίλτρο της Σχέσης (2)."
   ]
  },
  {
   "cell_type": "markdown",
   "metadata": {
    "deletable": true,
    "editable": true
   },
   "source": [
    "**Για κάθε ένα από τα δυο φίλτρα:**\n",
    "\n",
    "iv. Παραδώστε κώδικα που παράγει δυο εικόνες του πίνακα C, μια που έχει προέλθει από φιλτράρισμα των *γραμμών* του πίνακα B, και μια που έχει προέλθει από φιλτράρισμα των *στηλών* του πίνακα B. Σχολιάστε τις παρατηρήσεις σας. Εν γένει, θα χαρακτηρίζατε και τα δυο φίλτρα ως αποδοτικά;"
   ]
  },
  {
   "cell_type": "markdown",
   "metadata": {
    "deletable": true,
    "editable": true
   },
   "source": [
    "## Απάντηση:"
   ]
  },
  {
   "cell_type": "markdown",
   "metadata": {
    "deletable": true,
    "editable": true
   },
   "source": [
    "**Φίλτρο κυλιόμενης μέσης τιμής τριών σημείων**"
   ]
  },
  {
   "cell_type": "code",
   "execution_count": null,
   "metadata": {
    "collapsed": false,
    "deletable": true,
    "editable": true,
    "scrolled": false
   },
   "outputs": [],
   "source": [
    "B = mpimg.imread('NoiseSaturn.tif')\n",
    "\n",
    "#  3-point Moving Average in rows\n",
    "\n",
    "#  Initialize C\n",
    "M = B.shape[0]\n",
    "N = B.shape[1]\n",
    "C = np.zeros((M,N))\n",
    "\n",
    "#  Cast to double for processing\n",
    "B = B.astype(float)\n",
    "\n",
    "# Apply a moving average (MA) filter in every row\n",
    "for i in range(0,M):       # Process rows B[i,:]\n",
    "     for j in range(1,N-1):     # Why from 1 to N-1 and not from 0 to N?\n",
    "        # Insert code here\n",
    "\n",
    "\n",
    "\n",
    "\n",
    "#  Cast it to unsigned int\n",
    "C = C.astype(np.uint8)\n",
    "\n",
    "#  Show the result\n",
    "plt.figure\n",
    "plt.imshow(C, cmap=plt.get_cmap('gray'))\n",
    "plt.title('MA-filtered image in rows')\n",
    "plt.show()"
   ]
  },
  {
   "cell_type": "code",
   "execution_count": null,
   "metadata": {
    "collapsed": false,
    "deletable": true,
    "editable": true
   },
   "outputs": [],
   "source": [
    "# 3-point Moving Average in columns\n",
    "\n",
    "# Initialize C\n",
    "M = B.shape[0]\n",
    "N = B.shape[1]\n",
    "C = np.zeros((M,N))\n",
    "# Cast to double for processing\n",
    "B = B.astype(float)\n",
    "# Apply a moving average (MA) filter in every column\n",
    "for j in range(0,N):          # Process columns B[:,j]\n",
    "     for i in range(1,M-1):     # Why from 1 to M-1 and not from 0 to M?\n",
    "        # Insert code here\n",
    "\n",
    "\n",
    "\n",
    "\n",
    "#  Cast it to unsigned int\n",
    "C = C.astype(np.uint8)\n",
    "\n",
    "#  Show the result\n",
    "plt.figure\n",
    "plt.imshow(C, cmap=plt.get_cmap('gray'))\n",
    "plt.title('MA-filtered image in columns')\n",
    "plt.show()"
   ]
  },
  {
   "cell_type": "markdown",
   "metadata": {},
   "source": [
    "### Παρατηρήσεις:\n",
    "\n",
    "#### Γράψτε εδώ τις παρατηρήσεις σας.\n",
    "\n",
    "Κείμενο"
   ]
  },
  {
   "cell_type": "markdown",
   "metadata": {
    "deletable": true,
    "editable": true
   },
   "source": [
    "**Φίλτρο μεσαίας τιμής τριών σημείων**"
   ]
  },
  {
   "cell_type": "code",
   "execution_count": null,
   "metadata": {
    "collapsed": false,
    "deletable": true,
    "editable": true
   },
   "outputs": [],
   "source": [
    "# 3-point Median filter in rows\n",
    "\n",
    "# Initialize C\n",
    "M = B.shape[0]\n",
    "N = B.shape[1]\n",
    "C = np.zeros((M,N))\n",
    "# Cast to double for processing\n",
    "B = B.astype(float)\n",
    "\n",
    "#  Apply a median filter in every row\n",
    "for i in range(0,M):       # Process rows B[i,:]\n",
    "     for j in range(1,N-1):     # Why from 1 to N-2 and not from 0 to N-1?\n",
    "        # Insert code here\n",
    "\n",
    "\n",
    "\n",
    "\n",
    "\n",
    "#  Cast it to unsigned int\n",
    "C = C.astype(np.uint8)\n",
    "\n",
    "#  Show the result\n",
    "plt.figure\n",
    "plt.imshow(C, cmap=plt.get_cmap('gray'))\n",
    "plt.title('Median-filtered image in rows')\n",
    "plt.show()"
   ]
  },
  {
   "cell_type": "code",
   "execution_count": null,
   "metadata": {
    "collapsed": false,
    "deletable": true,
    "editable": true
   },
   "outputs": [],
   "source": [
    "B = mpimg.imread('NoiseSaturn.tif')\n",
    "\n",
    "# 3-point Median filter in columns\n",
    "\n",
    "# Initialize C\n",
    "M = B.shape[0]\n",
    "N = B.shape[1]\n",
    "C = np.zeros((M,N))\n",
    "# Cast to double for processing\n",
    "B = B.astype(float)\n",
    "# Apply a median filter in every column\n",
    "for j in range(0,N):       # Process columns B[:,j]\n",
    "     for i in range(1,M-1):     # Why from 1 to M-2 and not from 0 to M-1?\n",
    "        # Insert code here\n",
    "\n",
    "\n",
    "\n",
    "\n",
    "\n",
    "        \n",
    "#  Cast it to unsigned int\n",
    "C = C.astype(np.uint8)\n",
    "\n",
    "#  Show the result\n",
    "plt.figure; \n",
    "plt.imshow(C, cmap=plt.get_cmap('gray'))\n",
    "plt.title('Median-filtered image in columns')\n",
    "plt.show()"
   ]
  },
  {
   "cell_type": "markdown",
   "metadata": {},
   "source": [
    "### Παρατηρήσεις:\n",
    "\n",
    "#### Γράψτε εδώ τις παρατηρήσεις σας.\n",
    "\n",
    "\n",
    "Κείμενο"
   ]
  },
  {
   "cell_type": "markdown",
   "metadata": {
    "deletable": true,
    "editable": true
   },
   "source": [
    "v. Παραδώστε κώδικα που εφαρμόζει τα φίλτρα σας διαδοχικά (π.χ. εφαρμόστε ένα φίλτρο πρώτα σε γραμμές, και στο αποτέλεσμα που θα πάρετε εφαρμόστε το ίδιο φίλτρο ξανά κατά στήλες). Υλοποιήστε αυτή την προσέγγιση και με τα δυο φίλτρα. Παίρνετε καλύτερο αποτέλεσμα από πριν; Σχολιάστε."
   ]
  },
  {
   "cell_type": "markdown",
   "metadata": {
    "deletable": true,
    "editable": true
   },
   "source": [
    "## Απάντηση:"
   ]
  },
  {
   "cell_type": "code",
   "execution_count": null,
   "metadata": {
    "collapsed": false,
    "deletable": true,
    "editable": true
   },
   "outputs": [],
   "source": [
    "#  3-point Moving Average in rows and columns\n",
    "\n",
    "#  Initialize C\n",
    "M = B.shape[0]\n",
    "N = B.shape[1]\n",
    "C = np.zeros((M,N))\n",
    "D = np.zeros((M,N))\n",
    "\n",
    "#  Cast to double for processing\n",
    "B = B.astype(float)\n",
    "\n",
    "# Insert code here\n",
    "\n",
    "\n",
    "\n",
    "\n",
    "\n",
    "        \n",
    "\n",
    "\n",
    "\n",
    "        \n",
    "#  Cast it to unsigned int\n",
    "D = D.astype(np.uint8)\n",
    "\n",
    "#  Show the result\n",
    "plt.figure \n",
    "plt.imshow(D, cmap=plt.get_cmap('gray'))\n",
    "plt.title('MA-filtered image')\n",
    "plt.show()\n"
   ]
  },
  {
   "cell_type": "code",
   "execution_count": null,
   "metadata": {
    "collapsed": false,
    "deletable": true,
    "editable": true
   },
   "outputs": [],
   "source": [
    "# 3-point Median filter in rows & columns\n",
    "\n",
    "# Initialize C\n",
    "M = B.shape[0]\n",
    "N = B.shape[1]\n",
    "C = np.zeros((M,N))\n",
    "D = np.zeros((M,N))\n",
    "# Cast to double for processing\n",
    "B = B.astype(float)\n",
    "\n",
    "# Insert code here\n",
    "\n",
    "\n",
    "\n",
    "\n",
    "\n",
    "        \n",
    "\n",
    "\n",
    "       \n",
    "# Cast it to unsigned int\n",
    "D = D.astype(np.uint8)\n",
    "\n",
    "#  Show the result\n",
    "plt.figure \n",
    "plt.imshow(D, cmap=plt.get_cmap('gray'))\n",
    "plt.title('Median-filtered image')\n",
    "plt.show()"
   ]
  },
  {
   "cell_type": "markdown",
   "metadata": {},
   "source": [
    "### Παρατηρήσεις:\n",
    "\n",
    "#### Γράψτε εδώ τις παρατηρήσεις σας.\n",
    "\n",
    "Κείμενο"
   ]
  },
  {
   "cell_type": "markdown",
   "metadata": {},
   "source": [
    "---\n",
    "---"
   ]
  },
  {
   "cell_type": "markdown",
   "metadata": {
    "deletable": true,
    "editable": true
   },
   "source": [
    "# Άσκηση 2 - Αποθορυβοποίηση στην Aegean"
   ]
  },
  {
   "cell_type": "markdown",
   "metadata": {
    "deletable": true,
    "editable": true
   },
   "source": [
    "Στα αεροπλάνα, η ηλεκτρική ισχύς είναι στα $400$ Hz (ενώ στα σπίτια είναι στα $50-60$ Hz) διότι οι αντίστοιχοι μετασχηματιστές είναι ελαφρύτεροι και μικρότεροι (σπουδαία ιδιότητα για εξοπλισμό αεροσκάφους!). Για τον λόγο αυτό, όταν γίνεται κάποια ανακοίνωση από τα ηχεία του αεροπλάνου, στο σήμα της φωνής προστίθεται ένα συνημίτονο συχνότητας $400$ Hz. Το αποτέλεσμα δεν είναι ευχάριστο στο αυτί μας. Καλείστε να φτιάξετε ένα φίλτρο (ΓΧΑ σύστημα) το οποίο να αφαιρεί το παραπάνω ενοχλητικό σήμα χωρίς να καταστρέφει το σήμα της φωνής.\n",
    "\n",
    "Για το πείραμά σας, χρησιμοποιήστε το αρχείο 4781_8k.wav, το οποίο θα φορτώσετε και ακούσετε ως εξής:\n",
    "\n",
    "    fs, s = wavfile.read('./4781_8k.wav')     # διαβάζουμε το συνοδευτικό wav αρχείο\n",
    "    s = s / (2**15)                           # κανονικοποίηση\n",
    "    Audio(s, rate=fs)                         # ακούμε! :)"
   ]
  },
  {
   "cell_type": "markdown",
   "metadata": {},
   "source": [
    "## Απάντηση: "
   ]
  },
  {
   "cell_type": "code",
   "execution_count": 5,
   "metadata": {},
   "outputs": [],
   "source": [
    "# Insert code here\n",
    "\n",
    "\n",
    "\n",
    "\n"
   ]
  },
  {
   "cell_type": "markdown",
   "metadata": {
    "deletable": true,
    "editable": true
   },
   "source": [
    "Ακολουθήστε τα παρακάτω βήματα:\n",
    "\n",
    "(α') Προφανώς μπορείτε να επιβεβαιώσετε ότι για ένα σύστημα με απόκριση σε συχνότητα\n",
    "\n",
    "$$H(e^{j\\omega}) = 1 - e^{-j(\\omega-\\omega_0)} \\tag{3}$$\n",
    "\n",
    "ισχύει $H(e^{j\\omega_0}) = 0$, δηλ. η απόκριση συχνότητας μηδενίζεται για $\\omega = \\omega_0$. Αυτό σημαίνει ότι το σύστημα αυτό μηδενίζει/καταστέλλει πλήρως τη **θετική** (MONO) συχνότητα $\\omega_0$ του σήματος που λαμβάνει στην είσοδό του (γιατί όπως ξέρετε ένα σήμα αναλύεται τόσο σε θετικές όσο και σε αρνητικές συχνότητες). Θεωρήστε ότι έχετε ένα σήμα εισόδου της μορφής\n",
    "\n",
    "$$x[n]= \\cos(\\omega_0 n) \\tag{4}$$"
   ]
  },
  {
   "cell_type": "markdown",
   "metadata": {},
   "source": [
    "---"
   ]
  },
  {
   "cell_type": "markdown",
   "metadata": {},
   "source": [
    "---"
   ]
  },
  {
   "cell_type": "markdown",
   "metadata": {
    "deletable": true,
    "editable": true
   },
   "source": [
    "(β') Ποιά θα είναι η έξοδος $y[n]$ όταν το παραπάνω σήμα $x[n]$ (όπως το αναπτύξατε στο (α') ερώτημα) περάσει από ένα **οποιοδήποτε** σύστημα με απόκριση σε συχνότητα $H(e^{j\\omega})$; Εκμεταλλευτείτε το γεγονός ότι το σήμα εισόδου είναι άθροισμα *ιδιοσυναρτήσεων* του συστήματος και εκφράστε την απάντησή σας συναρτήσει των *ιδιοτιμών* του συστήματος (δηλ. ως ένα άθροισμα δυο όρων). **Γράψτε παρακάτω την απάντησή σας αναλυτικά**."
   ]
  },
  {
   "cell_type": "markdown",
   "metadata": {
    "deletable": true,
    "editable": true
   },
   "source": [
    "## Απάντηση:\n",
    "\n",
    "Κείμενο και εξισώσεις"
   ]
  },
  {
   "cell_type": "markdown",
   "metadata": {},
   "source": [
    "---"
   ]
  },
  {
   "cell_type": "markdown",
   "metadata": {
    "deletable": true,
    "editable": true
   },
   "source": [
    "(γ') Με βάση την προηγούμενη απάντησή σας, βρείτε στο χαρτί σας ένα φίλτρο $H_z(e^{j\\omega})$ με τις εξής ιδιότητες:\n",
    "\n",
    "*  Μηδενίζει και τους δυο όρους του σήματος εισόδου $x[n]$ που έχετε βρει παραπάνω, δηλ. η έξοδος του συστήματος όταν στην είσοδό του εμφανιστεί το σήμα $x[n]$ της Σχέσης (4) να είναι $$y[n] = 0, \\: \\: \\forall n$$ \n",
    "\n",
    "*  Αποτελείται από δυο υποσυστήματα **σε σειρά**, με το ένα εξ αυτών να είναι το σύστημα $H(e^{j\\omega})$ που σας δίνεται παραπάνω στη Σχέση (3), καθώς και ένα ... πολύ *παρόμοιό* του. Διαβάστε προσεκτικά τι κάνει το φίλτρο της Σχέσης (3) όπως σας περιγράφεται παραπάνω και εύκολα θα βρείτε και το *παρόμοιό* του."
   ]
  },
  {
   "cell_type": "markdown",
   "metadata": {
    "deletable": true,
    "editable": true
   },
   "source": [
    "## Απάντηση:\n",
    "\n",
    "Κείμενο και εξισώσεις"
   ]
  },
  {
   "cell_type": "markdown",
   "metadata": {},
   "source": [
    "---"
   ]
  },
  {
   "cell_type": "markdown",
   "metadata": {
    "deletable": true,
    "editable": true
   },
   "source": [
    "(δ') Μετατρέψτε το φίλτρο $H_z(e^{j\\omega})$ που βρήκατε παραπάνω σε εξίσωση διαφορών στο χαρτί σας (χρησιμοποιήστε ιδιότητες) και **γράψτε παρακάτω την εξίσωση που καταλήξατε**."
   ]
  },
  {
   "cell_type": "markdown",
   "metadata": {
    "deletable": true,
    "editable": true
   },
   "source": [
    "## Απάντηση:\n",
    "\n",
    "Κείμενο και εξισώσεις\n",
    "\n",
    "(Hint: θα πρέπει να βρείτε το παρακάτω)\n",
    "\n",
    "$$y[n] = x[n] - 2\\cos(\\omega_0)x[n-1] + x[n-2]$$"
   ]
  },
  {
   "cell_type": "markdown",
   "metadata": {},
   "source": [
    "----"
   ]
  },
  {
   "cell_type": "markdown",
   "metadata": {
    "deletable": true,
    "editable": true
   },
   "source": [
    "(ε) Η συνάρτηση $H = \\textrm{signal.freqz(B,A,W)}$ υπολογίζει την απόκριση σε συχνότητα $H(e^{j\\omega})$ μιας εξίσωσης διαφορών της μορφής\n",
    "\n",
    "$$\\sum_{k=0}^N a_k y[n-k] = \\sum_{l=0}^N b_l x[n-l] \\tag{5}$$\n",
    "\n",
    "Δέχεται τους συντελεστές της εισόδου $Β = [b_0, \\: b_1, \\: \\cdots \\: b_N]$, της εξόδου $Α = [a_0,\\: a_1, \\: \\cdots \\: a_M]$, και τις συχνότητες $W$ που θέλουμε να υπολογίσουμε την απόκριση συχνότητας ως ορίσματα, και επιστρέφει τις τιμές της απόκρισης συχνότητας, $H$, στις συχνότητες $W$. Θεωρήστε ότι βλέπετε το χώρο της συχνότητας στο \"παράθυρο\" $(-\\pi, \\pi]$, κι έτσι οι συχνότητές σας θα είναι\n",
    "\n",
    "    dw = 2*np.pi/600;\n",
    "    W = np.arange(-np.pi+dw,np.pi, dw);\n",
    "\n",
    "Χρησιμοποιήστε τη συνάρτηση $\\textrm{signal.freqz}$ για να δείτε αν το φίλτρο σας όντως κάνει αυτό που πρέπει (δηλ. μηδενίζει τις κατάλληλες συχνότητες στην απόκριση πλάτους). Χρησιμοποιήστε τις συναρτήσεις plot,abs για να σχεδιάσετε το *μέτρο* της απόκρισης σε συχνότητα, δηλ. την *απόκριση πλάτους* του συστήματος και τις συναρτήσεις $\\textrm{plot}, \\textrm{angle}$ για να σχεδιάσετε τη *φάση* της απόκρισης σε συχνότητα, δηλ. την *απόκριση φάσης* του συστήματος. \n",
    "\n",
    "Αν όλα τα έχετε κάνει σωστά, θα δείτε τα γραφήματα του Σχήματος 1 (με μόνη διαφορά την κλίμακα των γραφημάτων).\n",
    "\n",
    "![absangle2](absangle2.png)\n",
    "\n",
    "*Σχήμα 1: Απόκριση πλάτους και φάσης συστήματος $H_z(e^{j\\omega})$.*\n"
   ]
  },
  {
   "cell_type": "markdown",
   "metadata": {
    "deletable": true,
    "editable": true
   },
   "source": [
    "## Απάντηση:"
   ]
  },
  {
   "cell_type": "code",
   "execution_count": null,
   "metadata": {},
   "outputs": [],
   "source": [
    "f0 = 400\n",
    "w0 = # insert code here\n",
    "\n",
    "dw = 2*np.pi/600\n",
    "W = np.arange(-np.pi+dw,np.pi, dw)\n",
    "\n",
    "A = # insert code here\n",
    "B = # insert code here\n",
    "H = # insert code here\n",
    "\n",
    "H = np.transpose(H)\n",
    "\n",
    "plt.figure(figsize=(12,4))\n",
    "plt.subplot(1,2,1)\n",
    "plt.plot(W, np.abs(H[:,1]))\n",
    "plt.grid(True)\n",
    "plt.xlabel('Frequency')\n",
    "plt.title('Απόκριση Πλάτους')\n",
    "plt.subplot(1,2,2)\n",
    "plt.plot(W, np.angle(H[:,1])) \n",
    "plt.grid(True)\n",
    "plt.xlabel('Frequency')\n",
    "plt.title('Απόκριση Φάσης')\n",
    "plt.show()"
   ]
  },
  {
   "cell_type": "markdown",
   "metadata": {},
   "source": [
    "---"
   ]
  },
  {
   "cell_type": "markdown",
   "metadata": {
    "collapsed": false,
    "deletable": true,
    "editable": true
   },
   "source": [
    "(στ') Χρησιμοποιήστε τη συνάρτηση $\\textrm{signal.lfilter}$ για να υλοποιήσετε το σύστημα και να βρείτε την εξοδό του, δίνοντας ως είσοδο το πραγματικό σήμα φωνής που έχετε φορτώσει παραπάνω. Η $\\textrm{signal.lfilter}$ συντάσσεται ως $\\textrm{y = signal.lfilter(B,A,x)}$, με $B$ τους συντελεστές της εισόδου στην εξίσωση διαφορών, $A$ τους συντελεστές της εξόδου στην εξίσωση διαφορών, και $x$ το διάνυσμα του σήματος εισόδου (σήμα φωνής). Ακούστε το σήμα εξόδου."
   ]
  },
  {
   "cell_type": "markdown",
   "metadata": {
    "deletable": true,
    "editable": true
   },
   "source": [
    "## Απάντηση:"
   ]
  },
  {
   "cell_type": "code",
   "execution_count": null,
   "metadata": {
    "collapsed": false,
    "deletable": true,
    "editable": true
   },
   "outputs": [],
   "source": [
    "cleansig = # insert code here\n",
    "Audio(cleansig, rate=fs)"
   ]
  },
  {
   "cell_type": "markdown",
   "metadata": {},
   "source": [
    "---"
   ]
  },
  {
   "cell_type": "markdown",
   "metadata": {
    "deletable": true,
    "editable": true
   },
   "source": [
    "(ζ') **Αναφέρετε παρακάτω πως αντιλαμβάνεστε ακουστικά αυτήν την αλλοίωση. Λάβετε υπ'όψη σας την απόκριση πλάτους του συστήματος για να απαντήσετε**. Σε επόμενο εργαστήριο, θα δείτε πως να φτιάξετε ένα *πολύ* καλύτερο φίλτρο από αυτό."
   ]
  },
  {
   "cell_type": "markdown",
   "metadata": {},
   "source": [
    "### Παρατηρήσεις:\n",
    "\n",
    "Κείμενο"
   ]
  },
  {
   "cell_type": "markdown",
   "metadata": {},
   "source": [
    "---\n",
    "---"
   ]
  },
  {
   "cell_type": "markdown",
   "metadata": {
    "deletable": true,
    "editable": true
   },
   "source": [
    "# Άσκηση 3 - Agent 007: ανίχνευση αριθμού τηλεφώνου"
   ]
  },
  {
   "cell_type": "markdown",
   "metadata": {
    "deletable": true,
    "editable": true
   },
   "source": [
    "Όταν πληκτρολογούμε ένα τηλεφωνικό νούμερο στο κινητό μας ή σε ένα οποιοδήποτε τηλέφωνο με πλήκτρα, δημιουργούμε για κάθε αριθμό δυο συνημίτονα. Για παράδειγμα, όταν πληκτρολογούμε τον αριθμό $0$, δημιουργούμε ένα άθροισμα δυο συνημιτόνων με συχνότητες $941$ και $1336$ Hz έκαστο, ήτοι\n",
    "\n",
    "$$ x_0[n] = \\cos\\Big(2\\pi 941 \\frac{n}{f_s}\\Big) + \\cos\\Big(2\\pi 1336 \\frac{n}{f_s}\\Big) \\tag{6}$$\n",
    "\n",
    "με $f_s$ τη συχνότητα δειγματοληψίας, η οποία είναι $f_s = 8000$ Hz για όλο το σύστημα. Το πρότυπο αυτό ονομάζεται **DTMF - Dual-Tone Multi-Frequency**, και ο πίνακας που αντιστοιχεί σε αυτό φαίνεται παρακάτω στον πίνακα του Σχήματος 2.\n",
    "\n",
    "![DTMF](DTMF.jpg)\n",
    "\n",
    "*Σχήμα 2: Πίνακας Πρότυπου DTMF.*\n",
    "\n",
    "Οι συχνότητες που αντιστοιχούν σε κάθε αριθμό δεν έχουν επιλεγεί τυχαία. \n",
    "- Καμιά από τις συχνότητες δεν είναι πολλαπλάσιο κάποιας άλλης, \n",
    "- Καμιά δεν αποτελεί άθροισμα ή διαφορά οποιωνδήποτε άλλων δυο συχνοτήτων του πίνακα. \n",
    "\n",
    "Η συνθήκη αυτή διευκολύνει πολύ τον εντοπισμό των συχνοτήτων (και άρα τον αριθμό). "
   ]
  },
  {
   "cell_type": "markdown",
   "metadata": {
    "deletable": true,
    "editable": true
   },
   "source": [
    "Για τους σκοπούς μας, κάθε άθροισμα συνημιτόνων (δηλ. κάθε τηλεφωνικός *τόνος*) διαρκεί $0.5$ δευτερόλεπτα, ενώ υπάρχει μια παύση (σιωπή) μεταξύ των τόνων, διάρκειας $0.1$ δευτερολέπτων. Στο διακριτό χρόνο, η παύση δεν είναι τίποτε άλλο από ένα διάνυσμα γεμάτο μηδενικά, κατάλληλης διάρκειας δειγμάτων. Υποθέτουμε ότι ο αριθμός που ψάχνουμε έχει συντεθεί από διαδοχικές συνενώσεις τόνου + σιωπής διάρκειας $0.5 + 0.1 = 0.6$ δευτερολέπτων ο καθένας. Άρα ένα $10$ψήφιο τηλεφωνικό σήμα θα έχει διάρκεια $6$ δευτερόλεπτα. Το σκεπτικό μας είναι να χωρίσουμε το ολόκληρο το σήμα τηλεφωνικού αριθμού σε \"κομμάτια\" (frames) των $0.6$ δευτερολέπτων, χωρίς αυτά να επικαλύπτονται μεταξύ τους, και να ελέγχουμε σε κάθε frame αν υπάρχει κάποιος τόνος από τους παραπάνω. \n",
    "\n",
    "**Σκοπός αυτής της άσκησης είναι να σχεδιάσετε ένα σύστημα ζωνοπερατών (bandpass) φίλτρων (δηλ. συστημάτων) που θα φιλτράρει ένα frame κάθε φορά, και θα ελέγχει ποιό ζεύγος εξόδων φίλτρων έχει περισσότερη πληροφορία σε σχέση με τις υπόλοιπες, ελέγχοντας την ενέργειά καθεμιάς σε σχέση με ένα κατώφλι (threshold). Αυτό το ζεύγος εξόδων - που αντιστοιχεί σε ένα ζεύγος ζωνοπερατών φίλτρων - θα μας υποδείξει ποιά φίλτρα χρησιμοποιήθηκαν και άρα ποιές συχνότητες επέτρεψαν αυτά να περάσουν. Το κέντρο αυτών των συχνοτήτων θα πρέπει να είναι συχνότητες που υπάρχουν στον Πίνακα 2**.\n",
    "\n",
    "Το σύστημα ζωνοπερατών φίλτρων θα σχεδιαστεί από ένα βασικό (ιδανικό) χαμηλοπερατό (lowpass) φίλτρο το οποίο έχει απόκριση σε συχνότητα στο διάστημα $(-\\pi, \\pi]$ ως\n",
    "\n",
    "$$ H_{lp}(e^{j\\omega}) = \\left\\{\\begin{array}{lll}\n",
    "1, & \\displaystyle - \\omega_c < \\omega < \\omega_c \\\\\n",
    " & \\\\\n",
    "0, & \\displaystyle \\omega_c \\leq |\\omega| \\leq \\pi\n",
    "\\end{array}\\right. \\tag{7}$$"
   ]
  },
  {
   "cell_type": "markdown",
   "metadata": {
    "deletable": true,
    "editable": true
   },
   "source": [
    "με $\\omega_c = \\pi/200$ (η οποία αντιστοιχεί σε $f_c = 20$ Hz στο συνεχή χρόνο).  **Το σκεπτικό είναι πως αντί να σχεδιάσετε πολλά διαφορετικά ζωνοπερατά φίλτρα, μπορείτε να χρησιμοποιήσετε την ιδιότητα της μετατόπισης στη συχνότητα του μετασχ. Fourier διακριτού χρόνου ώστε να μετατοπίζετε αυτό το βασικό φίλτρο γύρω από τις κατάλληλες συχνότητες $\\pm \\omega_0$ που σας ενδιαφέρουν, και να δημιουργείτε έτσι τα εκάστοτε ζωνοπερατά φίλτρα**. Παρατηρήστε ότι \n",
    "\n",
    "$$ 2\\cos(\\omega_0n) h[n] \\longleftrightarrow H(e^{j(\\omega - \\omega_0)}) + H(e^{j(\\omega + \\omega_0)}) \\tag{8}$$\n",
    "\n",
    "Το σύστημά μας αποτελείται από *ιδανικά* φίλτρα, οπότε αρκεί αυτά να έχουν άρτια συμμετρία στο χώρο της συχνότητας. Το διάγραμμα του Σχήματος 3 σας δείχνει πως δουλεύει το σύστημά σας για το πρώτο frame διάρκειας $0.6$ s, που αντιστοιχεί στον αριθμό $6$.\n",
    "\n",
    "![Ex3Lab2](Ex3Lab2.png)\n",
    "\n",
    "*Σχήμα 3: Διάγραμμα λειτουργίας συστήματος ανίχνευσης αριθμού για το πρώτο frame.*\n",
    "\n",
    "Ως παράδειγμα σας δίνουμε ένα αρχείο ήχου που περιέχει τόνους από έναν αριθμό ενός κινητού τηλεφώνου. **Τελικός σκοπός σας είναι να εντοπίσετε τον αριθμό**. Μπορείτε να χρησιμοποιήσετε τις παρακάτω εντολές για να το ακούσετε.\n",
    "\n",
    "    fs, s = wavfile.read('./cell_num.wav')    # διαβάζουμε το συνοδευτικό wav αρχείο\n",
    "    s = s / (2**15)                           # κανονικοποίηση\n",
    "    Audio(s, rate=fs)\n",
    "    \n",
    "Σας δίνονται επίσης **τρεις συναρτήσεις που πρέπει να συμπληρώσετε και οι οποίες εκτελούν συνολικά την ανίχνευση του αριθμού**. Ακολουθήστε τις παρακάτω οδηγίες για κάθε συνάρτηση.\n",
    "\n",
    "\n",
    "**1. makeFB**\n",
    "\n",
    "Σε αυτήν την συνάρτηση θα φτιάξετε το σύστημα ζωνοπερατών φίλτρων $h_i[n]$. Υπενθυμίζεται ότι σκοπός είναι να φτιάξετε τα φίλτρα αυτά χρησιμοποιώντας μόνο το χαμηλοπερατό φίλτρο της Σχέσης (7) και κατάλληλες πράξεις με αυτό. Το πλήθος τους σύμφωνα με το πρότυπο DTMF πρέπει να είναι επτά ($7$), ένα για κάθε μια συχνότητα, αν και στον κώδικα αυτό δίνεται ως μεταβλητή από το χρήστη για περισσότερη γενικότητα. Η συνάρτηση αυτή σας επιστρέφει έναν πίνακα που η κάθε στήλη του περιέχει $201$ δείγματα της κρουστικής απόκρισης $h[n]$ από ένα φίλτρο. Π.χ. η $3$η στήλη του πίνακα περιέχει την κρουστική απόκριση του ζωνοπερατού φίλτρου που έχει σαν κέντρο του τη συχνότητα $2\\pi 852/fs$ rad/sample. Άρα ο πίνακας που κατασκευάζετε και επιστρέφει η συνάρτηση πρέπει να έχει διαστάσεις $201 \\times 7$.\n"
   ]
  },
  {
   "cell_type": "markdown",
   "metadata": {
    "deletable": true,
    "editable": true
   },
   "source": [
    "(α') Συμπληρώστε στη γραμμή $20$ παρακάτω τη συχνότητα αποκοπής $\\omega_c$ του βασικού χαμηλοπερατού φίλτρου που σας δίνεται παραπάνω.\n"
   ]
  },
  {
   "cell_type": "markdown",
   "metadata": {},
   "source": [
    "---"
   ]
  },
  {
   "cell_type": "markdown",
   "metadata": {
    "deletable": true,
    "editable": true
   },
   "source": [
    "(β') Βρείτε αρχικά στο χαρτί ποιό είναι το σήμα στο χρόνο στο οποίο αντιστοιχεί το χαμηλοπερατό φίλτρο που αναφέρεται παραπάνω στη Σχέση (7) και **παραδώστε την απάντησή σας παρακάτω**. Εκφράστε την απάντησή σας ως συνάρτηση της πολύ γνωστής σας συνάρτησης $\\textrm{sinc}$.\n",
    "\n",
    "## Απάντηση:\n",
    "\n",
    "Κείμενο και εξισώσεις\n",
    "\n",
    "---"
   ]
  },
  {
   "cell_type": "markdown",
   "metadata": {},
   "source": [
    "\n",
    "(γ') Γράψτε την έκφραση που βρήκατε στη γραμμή $34$ της συνάρτησης, για να δημιουργήσετε $201$ δείγματα του βασικού χαμηλοπερατού σας φίλτρου. Υπάρχει η συνάρτηση $\\textrm{sinc}$ της Python η οποία θα σας φανεί *πολύ πολύ* χρήσιμη στον κώδικά σας.\n",
    "\n",
    "---\n",
    "\n",
    "(δ') Βρείτε το μετασχηματισμό Fourier του σήματος \n",
    "$$ y[n] = \\cos(\\omega_0 n)h_{lp}[n] \\tag{9}$$\n",
    "\n",
    "στο χαρτί σας. Εκφράστε τον ως συνάρτηση του μετασχ. Fourier του $h_{lp}[n]$, δηλ. του $H_{lp}(e^{j\\omega})$. **Παραδώστε την απάντησή σας παρακάτω**. Τι παρατηρείτε ότι συμβαίνει στην απόκριση συχνότητας $H_{lp}(e^{j\\omega})$; **Απαντήστε παρακάτω**.\n",
    "\n",
    "## Απάντηση:\n",
    "\n",
    "Κείμενο και εξισώσεις.\n",
    "\n",
    "---\n",
    "\n",
    "(ε') Με βάση την απάντηση που δώσατε παραπάνω, μπορείτε τώρα να συμπληρώστε τη γραμμή $39$ της συνάρτησης δημιουργώντας έτσι τα ζωνοπερατά σας φίλτρα $h_i[n]$ επιλέγοντας κατάλληλες $\\omega_0$ για το καθένα. Η υλοποίησή σας πρέπει να γίνει στο πεδίο του χρόνου - μια απλή πράξη.\n",
    "\n",
    "---\n",
    "\n",
    "(ζ') Τέλος, στη γραμμή $41$, κανονικοποιήστε το κάθε φίλτρο που δημιουργείτε, απλά διαιρώντας το με το άθροισμα των τιμών των δειγμάτων του, \n",
    "\n",
    "$$\\sum_{n=-\\infty}^{+\\infty}h_i[n] \\tag{10}$$\n",
    "\n",
    "Η συνάρτηση $\\textrm{sum}$ της numpy θα σας φανεί χρήσιμη."
   ]
  },
  {
   "cell_type": "markdown",
   "metadata": {
    "deletable": true,
    "editable": true
   },
   "source": [
    "**2. dDTMF**\n",
    "\n",
    "Η συνάρτηση αυτή δέχεται ως όρισμα ένα σήμα τηλεφωνικού αριθμού και εντοπίζει τον τηλεφωνικό αριθμό που μεταφέρει το σήμα. Σημειώστε ότι γίνεται κλήση της συνάρτησης $\\textrm{makeFB}$. Η συνάρτηση $\\textrm{dDTMF}$ σας επιστρέφει έναν πίνακα δυο στηλών ο οποίος περιέχει τις συχνότητες που μεταφέρει το σήμα, καθώς και έναν πίνακα χαρακτήρων που περιέχει τον αριθμό που ανιχνεύτηκε. Συγκεκριμένα:\n",
    "\n",
    "(α') Γραμμή $24$: Μετατρέψτε τη διάρκεια κάθε τόνου από δευτερόλεπτα σε δείγματα. Θα σας χρειαστεί η συχνότητα δειγματοληψίας $\\textrm{fs}$.\n",
    "\n",
    "(β') Γραμμή $30$: Κάντε το ίδιο για τις σιωπές.\n",
    "\n",
    "(γ') Γραμμή $33$: (απλό σχόλιο) Στη γραμμή αυτή, βρίσκουμε πόσα frames τόνου+σιωπής υπάρχουν σε όλο το τηλεφωνικό σήμα. Απλώς κατανοήστε γιατί δουλεύει σωστά αυτή η εντολή.\n",
    "\n",
    "(δ') Γραμμή $45$: (απλο σχόλιο) Στη γραμμή αυτή, ο βρόχος επανάληψης διατρέχει το σήμα εισόδου ανά sh δείγματα και αποθηκεύει κάθε φορά στο διάνυσμα fr ένα κομμάτι διάρκειας όσο είναι *μόνο* η διάρκεια του τόνου (st), η οποία θεωρούμε ότι προηγείται της σιωπής πάντα."
   ]
  },
  {
   "cell_type": "markdown",
   "metadata": {},
   "source": [
    "\n",
    "(ε') Γραμμή $51$: Υπολογίστε την ενέργεια του κάθε κομματιού που δεσμεύεται, με βάση τη γνωστή σας σχέση\n",
    "\n",
    "$$E = \\sum_{n=-\\infty}^{+\\infty}x^2[n] \\tag{11}$$\n",
    "\n",
    "Ξανά, η συνάρτηση $\\textrm{sum}$ της numpy θα σας φανεί χρήσιμη.\n",
    "\n",
    "(στ') Γραμμή $55$: (απλό σχόλιο) Σε αυτή τη γραμμή, ο βρόχος επανάληψης διατρέχει όλα τα ζωνοπερατά φίλτρα που έχουμε φτιάξει στον πίνακα h και κάνει συνέλιξη καθενός από αυτά με το σήμα που βρίσκεται στο διάνυσμα fr. Προσέξτε ότι τα διαφορετικά φίλτρα βρίσκονται σε στήλες στον πίνακα h. Η διαδικασία αυτή υλοποιεί ακριβώς την έξοδο ενός ΓΧΑ συστήματος δεδομένης μιας εισόδου του (a.k.a συνέλιξη ).\n",
    "\n",
    "(ζ΄) Γραμμή $58$: Κάνετε συνέλιξη του σήματος με το j-οστό ζωνοπερατό φίλτρο ώστε να βρείτε την έξοδο του φίλτρου. Η συνάρτηση $\\textrm{conv}$ θα σας χρειαστεί σίγουρα.\n",
    "\n",
    "(η') Γραμμή $61$: Υπολογίστε την ενέργεια του παραπάνω σήματος εξόδου με τη γνωστή σχέση της ενέργειας.\n",
    "\n",
    "(θ') Γραμμή $64$: Πρέπει να θέσετε ένα όριο ώστε να αναγνωρίζετε πότε ένα ζωνοπερατό φίλτρο \"έχει πιάσει\" συχνότητα που περιέχεται στο σήμα fr. Σας προτείνεται ένα τέτοιο κριτήριο μέσα στον κώδικα ως σχόλιο.\n",
    "\n",
    "(ι') Γραμμές $79-$τέλος: Με βάση τον Πίνακα 2, συμπληρώστε τα ζεύγη συχνοτήτων για κάθε αριθμό.\n"
   ]
  },
  {
   "cell_type": "code",
   "execution_count": null,
   "metadata": {
    "collapsed": false,
    "deletable": true,
    "editable": true
   },
   "outputs": [],
   "source": [
    "def dDTMF(x):\n",
    "    #  Given a signal x which contains a phone number according to \n",
    "    #  DTMF standard it returns the frequencies that are present\n",
    "    #  in the signal and the number in a character vector\n",
    "    #\n",
    "    # G. Kafentzis (c) UOC, CSD, 2023\n",
    "\n",
    "    #  DTMF frequencies\n",
    "    DTMFfr = [697, 770, 852, 941, 1209, 1336, 1477]\n",
    "\n",
    "    #  Length of the DTMF vector\n",
    "    L = len(DTMFfr)\n",
    "\n",
    "    #  Build the frequency table - call \"makeFB\"\n",
    "    h = makeFB(DTMFfr)\n",
    "\n",
    "    #  Sampling frequency\n",
    "    fs = 8000\n",
    "\n",
    "    #  Tone duration in sec\n",
    "    d = 0.5\n",
    "\n",
    "    #  Line 24 below: Tone duration in samples\n",
    "    ds = # insert code here\n",
    "\n",
    "    #  Silence duration in sec\n",
    "    sil = 0.1\n",
    "\n",
    "    #  Line 30 below: Silence duration in samples\n",
    "    sils = # insert code here\n",
    "\n",
    "    #  Line 33 below: How many frames \"tone+silence\" fit in the whole signal?\n",
    "    Lt = round((len(x) + sils) / (ds+sils))\n",
    "\n",
    "    #  Frame length\n",
    "    st = np.arange(0, ds)\n",
    "    \n",
    "    #  Tone and silence duration\n",
    "    sh = ds + sils\n",
    "\n",
    "    #  Initialization\n",
    "    Fvec = np.zeros((Lt, 2))\n",
    "\n",
    "    #  Line 45 below: For every frame...\n",
    "    for i in range(0, Lt): \n",
    "        \n",
    "        # Get the corresponding piece out of the signal...\t\n",
    "        fr = x[st.astype(int)]\n",
    "\n",
    "        # Line 51 below: Calculate the energy of the frame fr\n",
    "        En = # insert code here\n",
    "\n",
    "        k = 0\n",
    "        # Line 55 below:\n",
    "        for j in range(0,L):\n",
    "            \n",
    "            #  Line 58 below: Filter segment fr (use np.convolve)\n",
    "            sc = # insert code here\n",
    "    \n",
    "            # Line 61 beow: Calculte the energy after filtering\n",
    "            S = # insert code here\n",
    "\n",
    "            # Line 64 below: Normalize S with En\n",
    "            R = # insert code here\n",
    "\n",
    "            # Line 67 below: Find a threshold (2 times the corresp. filter h(:,j) energy works well)\n",
    "            if R > # insert code here :\n",
    "                Fvec[i,k] = DTMFfr[j]\n",
    "                k = k + 1\n",
    "\n",
    "        st = st + sh;  # move frame\n",
    "\n",
    "\n",
    "\n",
    "    # Detect number\n",
    "    [M,N] = np.shape(Fvec)\n",
    "    number = \"\"\n",
    "    # Line 79 below:\n",
    "    for i in range(0,M):\n",
    "        if Fvec[i,0] == # insert code here:\n",
    "            if Fvec[i,1] == # insert code here:\n",
    "                number = number+ '1'\n",
    "            elif Fvec[i,1] == # insert code here:\n",
    "                number = number + '2'\n",
    "            elif Fvec[i,1] == # insert code here:\n",
    "                number = number + '3'\n",
    "\n",
    "        elif Fvec[i,0] == # insert code here:\n",
    "            if Fvec[i,1] == # insert code here:\n",
    "                number = number + '4'\n",
    "            elif Fvec[i,1] == # insert code here:\n",
    "                number = number +'5'\n",
    "            elif Fvec[i,1] == # insert code here:\n",
    "                number = number +'6'\n",
    "\n",
    "        elif Fvec[i,0] == # insert code here:\n",
    "            if Fvec[i,1] == # insert code here:\n",
    "                number = number + '7'\n",
    "            elif Fvec[i,1] == # insert code here:\n",
    "                number = number + '8'\n",
    "            elif Fvec[i,1] == # insert code here:\n",
    "                number = number + '9'\n",
    "\n",
    "        elif Fvec[i,0] == # insert code here:\n",
    "            if Fvec[i,1] == # insert code here:\n",
    "                number = number + '*'\n",
    "            elif Fvec[i,1] == # insert code here:\n",
    "                number = number + '0'\n",
    "            elif Fvec[i,1] == # insert code here:\n",
    "                number = number + '#'\n",
    "\n",
    "    return Fvec, number"
   ]
  },
  {
   "cell_type": "markdown",
   "metadata": {},
   "source": [
    "Ας δοκιμάσουμε τις συναρτήσεις που φτιάξαμε κι ας δούμε τι αριθμός προκύπτει!"
   ]
  },
  {
   "cell_type": "code",
   "execution_count": null,
   "metadata": {
    "collapsed": false,
    "deletable": true,
    "editable": true
   },
   "outputs": [],
   "source": [
    "fs, s = wavfile.read('./cell_num.wav'); \n",
    "s = s/(2**15) \n",
    "Audio(s, rate=fs)             # ακούμε! :)\n",
    "\n",
    "[Freq, Num] = dDTMF(s)\n",
    "\n",
    "print(f\"Ο αριθμός που βρήκαμε είναι ο {Num}\")"
   ]
  },
  {
   "cell_type": "markdown",
   "metadata": {
    "deletable": true,
    "editable": true
   },
   "source": [
    "**3. call**\n",
    "\n",
    "Η συνάρτηση call σας δίνεται απλά για έλεγχο. Με αυτήν την συνάρτηση, μπορείτε να δημιουργήσετε το δικό σας ήχο από οποιοδήποτε τηλεφωνικό νούμερο, να το ακούσετε, και αν θέλετε να το ανιχνεύσετε με τη βοήθεια των συναρτήσεων που γράψατε πριν, ώστε να βεβαιωθείτε ότι δουλεύει σωστά ο κώδικά σας πριν τον χρησιμοποιήσετε για το μυστικό αριθμό που σας δίνεται. Για παράδειγμα, μπορείτε να γράψετε\n",
    "\n",
    "    x = call([2 8 1 0 3 9 3 5 3 3]);\n",
    "    [Freq, Num] = dDTMF(x);\n",
    "\n",
    "και στη μεταβλητή Num θα πρέπει να έχετε τον αριθμό $2810393533$. Για να δουλέψει αυτή η συνάρτηση, πρέπει να συμπληρώσετε μέσα τις συχνότητες του Πίνακα 2 στις γραμμές $27-50$.\n"
   ]
  },
  {
   "cell_type": "code",
   "execution_count": null,
   "metadata": {
    "collapsed": false,
    "deletable": true,
    "editable": true
   },
   "outputs": [],
   "source": [
    "def call(tel):\n",
    "    #  it creates a signal corresponding to the phone number\n",
    "    #  specified by tel according to DTMF standard\n",
    "    #  For instance: x = call([6 9 7 1 1 1 1 1 1 1]);\n",
    "    #\n",
    "    #\n",
    "    #  (c) UOC, CSD, 2023\n",
    "\n",
    "    fs = 8000\n",
    "\n",
    "    d = 0.5\n",
    "    ds = d*fs\n",
    "    sil = 0.1\n",
    "    sils = sil*fs\n",
    "\n",
    "    Lt = len(tel)\n",
    "    D = d*Lt+sil*(Lt-1)\n",
    "    \n",
    "    Ds = int(D*fs)  # in samples;\n",
    "\n",
    "    x = np.zeros((Ds,1))\n",
    "    st = np.arange(0,ds)\n",
    "    sh = ds+sils\n",
    "    n = np.arange(0,ds)\n",
    "\n",
    "    # Line 27 below:\n",
    "    for i in range(0,Lt):\n",
    "        st=st.astype(int)\n",
    "        if(tel[i]==1):\n",
    "            x[st, 0] = # insert code here\n",
    "        elif(tel[i]==2):\n",
    "            x[st, 0] = # insert code here\n",
    "        elif(tel[i]==3):\n",
    "            x[st, 0] = # insert code here\n",
    "        elif(tel[i]==4):\n",
    "            x[st, 0] = # insert code here\n",
    "        elif(tel[i]==5):\n",
    "            x[st, 0] = # insert code here\n",
    "        elif(tel[i]==6):\n",
    "            x[st, 0] = # insert code here\n",
    "        elif(tel[i]==7):\n",
    "            x[st, 0] = # insert code here\n",
    "        elif(tel[i]==8):\n",
    "            x[st, 0] = # insert code here\n",
    "        elif(tel[i]==9):\n",
    "            x[st, 0] = # insert code here\n",
    "        else:  #0\n",
    "            x[st, 0] = # insert code here\n",
    "        \n",
    "        st = st+sh\n",
    "\n",
    "    # scale up:\n",
    "    x = x / (2**16 - 1)\n",
    "\n",
    "    return x\n"
   ]
  },
  {
   "cell_type": "markdown",
   "metadata": {},
   "source": [
    "Ας τη δοκιμάσουμε!"
   ]
  },
  {
   "cell_type": "code",
   "execution_count": null,
   "metadata": {},
   "outputs": [],
   "source": [
    "\n",
    "x = call([6,9,8,4,5,6,2,8,8,2])\n",
    "fs = 8000\n",
    "\n",
    "Audio(x.T, rate=fs)             # ακούμε! :)"
   ]
  },
  {
   "cell_type": "markdown",
   "metadata": {},
   "source": [
    "---\n",
    "---"
   ]
  },
  {
   "cell_type": "markdown",
   "metadata": {
    "deletable": true,
    "editable": true
   },
   "source": [
    "### Αν καταφέρετε να ανακτήσετε σωστά τον αριθμό που σας δίνεται, στείλτε ένα SMS - όχι κλήση!! - σε αυτόν τον αριθμό (vαι, πρέπει να ρισκάρετε!) με το όνομά σας (ή τα ονόματα και των δυο σας, αν πρόκειται για ομάδα δυο ατόμων) και τα e-mails σας. Αν όλα πάνε καλά, θα σας σταλεί μια απάντηση στα e-mails που δώσατε... αν όχι... :) \n",
    "\n",
    "### Για την παράδοση της άσκησης, παραδώστε συμπληρωμένο αυτό το *Python* αρχείο, με εκτελεσμένο κάθε κελί κώδικα, μετονομασμένο σε\n",
    "\n",
    "### <center> Lab2_AM.ipynb\n",
    "\n",
    "### Η παράδοση γίνεται μέσω e-mail στα\n",
    "\n",
    "### <center> csd4390@csd.uoc.gr\n",
    "\n",
    "### <center> και\n",
    "\n",
    "### <center> csd4262@csd.uoc.gr\n",
    "\n",
    "### Σε περίπτωση που έχετε ομάδα 2 ατόμων, το όνομα του αρχείου θα πρέπει να είναι \n",
    "\n",
    "### <center> Lab2_AM1_ΑΜ2.ipynb\n",
    "\n",
    "### και πρέπει να αποσταλεί ΜΟΝΟ από ένα (οποιοδήποτε) μέλος της ομάδας.\n",
    "\n",
    "## <center> Ανάθεση: 16/10/2023\n",
    "## <center> Προθεσμία: 2/11/2023, 23:59:59"
   ]
  }
 ],
 "metadata": {
  "kernelspec": {
   "display_name": "Python 3",
   "language": "python",
   "name": "python3"
  },
  "language_info": {
   "codemirror_mode": {
    "name": "ipython",
    "version": 3
   },
   "file_extension": ".py",
   "mimetype": "text/x-python",
   "name": "python",
   "nbconvert_exporter": "python",
   "pygments_lexer": "ipython3",
   "version": "3.9.16"
  }
 },
 "nbformat": 4,
 "nbformat_minor": 2
}
