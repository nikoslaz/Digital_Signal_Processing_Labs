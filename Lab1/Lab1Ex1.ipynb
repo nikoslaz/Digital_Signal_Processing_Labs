{
 "cells": [
  {
   "cell_type": "markdown",
   "metadata": {},
   "source": [
    "<div align=\"center\">\n",
    "    \n",
    "# ΠΑΝΕΠΙΣΤΗΜΙΟ ΚΡΗΤΗΣ\n",
    "# Τμήμα Επιστήμης Υπολογιστών\n",
    "\n",
    "## HY-370: Ψηφιακή Επεξεργασία Σημάτων\n",
    "## Χειμερινό Εξάμηνο 2023-2024\n",
    "### Διδάσκοντες: Γ. Στυλιανού, Γ. Καφεντζής\n",
    "\n",
    "## Ανάθεση: 7 Οκτωβρίου 2023\n",
    "## Παράδοση: 15 Οκτωβρίου 2023, 23:59:59\n",
    "(ο τρόπος παράδοσης βρίσκεται στο τέλος του αρχείου αυτού)"
   ]
  },
  {
   "cell_type": "markdown",
   "metadata": {
    "deletable": true,
    "editable": true
   },
   "source": [
    "# Άσκηση 1 - Υπολογισμός Περιόδου (20 μ.)"
   ]
  },
  {
   "cell_type": "code",
   "execution_count": null,
   "metadata": {
    "collapsed": false,
    "deletable": true,
    "editable": true
   },
   "outputs": [],
   "source": [
    "import numpy as np\n",
    "import matplotlib.pyplot as plt\n",
    "from IPython.display import Audio      # βιβιοθήκη για να \"παίζουμε\" ήχους (μεταξύ άλλων)\n",
    "from scipy import signal\n",
    "import time\n",
    "from scipy.io import wavfile           # βιβλιοθήκη για να \"διαβάζουμε\" .wav files (μεταξύ άλλων)"
   ]
  },
  {
   "cell_type": "markdown",
   "metadata": {
    "deletable": true,
    "editable": true
   },
   "source": [
    "Έστω το σήμα διακριτού χρόνου \n",
    "\n",
    "$$x[n] = 2\\cos(0.1\\pi n) + 3\\sin(0.2\\pi n)\\tag{1}$$"
   ]
  },
  {
   "cell_type": "markdown",
   "metadata": {
    "deletable": true,
    "editable": true
   },
   "source": [
    "**(Α')** Ας δημιουργήσουμε σε *python* $50$ δείγματα του παραπάνω διακριτού σήματος και ας εμφανίσουμε το αποτέλεσμα με την εντολή *stem*, ορίζοντας κατάλληλα το διάνυσμα του διακριτού χρόνου $n$, να είναι από μηδέν έως $49$ (σύνολο $50$ χρονικές στιγμές)."
   ]
  },
  {
   "cell_type": "code",
   "execution_count": null,
   "metadata": {},
   "outputs": [],
   "source": [
    "n = np.arange(0, 50);                               # Discrete time indices\n",
    "x = 2*np.cos(0.1*np.pi*n) + 3*np.sin(0.2*np.pi*n);  # Signal\n",
    "\n",
    "fig = plt.figure(figsize=(12,4))                    # Plot\n",
    "plt.stem(n, x)                                      # Visualize\n",
    "plt.title('Synthetic signal')\n",
    "plt.xlabel('Samples')\n",
    "plt.show()"
   ]
  },
  {
   "cell_type": "markdown",
   "metadata": {
    "deletable": true,
    "editable": true
   },
   "source": [
    "**i.** Από το σχήμα, μπορείτε να βρείτε ποιά είναι περίπου η περίοδος του σήματος; (μην κλείσετε το γράφημα)"
   ]
  },
  {
   "cell_type": "markdown",
   "metadata": {
    "deletable": true,
    "editable": true
   },
   "source": [
    "## Απάντηση:\n",
    "\n",
    "Γράψτε εδώ την απάντησή σας."
   ]
  },
  {
   "cell_type": "markdown",
   "metadata": {},
   "source": [
    "----\n",
    "----"
   ]
  },
  {
   "cell_type": "markdown",
   "metadata": {
    "deletable": true,
    "editable": true
   },
   "source": [
    "**ii.** Υπολογίστε με ακρίβεια την περίοδο του σήματος σε αριθμό δειγμάτων στο χαρτί, και επιβεβαιώστε το αποτέλεσμα ελέγχοντας τις τιμές του σήματος χρησιμοποιώντας *python*. Υπολογίσατε σωστά την περίοδο αρχικά \"με το μάτι\"; "
   ]
  },
  {
   "cell_type": "markdown",
   "metadata": {
    "deletable": true,
    "editable": true
   },
   "source": [
    "## Απάντηση:\n",
    "\n",
    "Γράψτε εδώ την απάντησή σας."
   ]
  },
  {
   "cell_type": "markdown",
   "metadata": {},
   "source": [
    "----\n",
    "----"
   ]
  },
  {
   "cell_type": "markdown",
   "metadata": {
    "deletable": true,
    "editable": true
   },
   "source": [
    "**iii.** Αν αυτό το σήμα έχει προέλθει από δειγματοληψία ενός σήματος συνεχούς χρόνου με συχνότητα δειγματοληψίας $200$ Hz, τότε πόση είναι η περίοδος του σήματος συνεχούς χρόνου; "
   ]
  },
  {
   "cell_type": "markdown",
   "metadata": {
    "collapsed": true,
    "deletable": true,
    "editable": true
   },
   "source": [
    "## Απάντηση:\n",
    "\n",
    "Γράψτε εδώ την απάντησή σας."
   ]
  },
  {
   "cell_type": "markdown",
   "metadata": {},
   "source": [
    "----\n",
    "----"
   ]
  },
  {
   "cell_type": "markdown",
   "metadata": {
    "deletable": true,
    "editable": true
   },
   "source": [
    "**(B')** Ας υποθέσουμε ότι προσθέτουμε άλλη μια συνιστώσα στο παραπάνω σήμα:\n",
    "\\begin{equation}\n",
    "x[n] = 2\\cos(0.1\\pi n) + 2\\cos(0.15\\pi n) + 3\\sin(0.2\\pi n) \\tag{2}\n",
    "\\end{equation}"
   ]
  },
  {
   "cell_type": "markdown",
   "metadata": {
    "deletable": true,
    "editable": true
   },
   "source": [
    "**i.** Δημιουργήστε $150$ δείγματα σε *Python*. Εκτελώντας ξανά την εντολή *stem* για το παραπάνω σήμα, εμφανίστε το."
   ]
  },
  {
   "cell_type": "markdown",
   "metadata": {
    "deletable": true,
    "editable": true
   },
   "source": [
    "## Απάντηση:"
   ]
  },
  {
   "cell_type": "code",
   "execution_count": null,
   "metadata": {
    "collapsed": false,
    "deletable": true,
    "editable": true
   },
   "outputs": [],
   "source": [
    "# Insert code here\n",
    "\n",
    "\n",
    "\n",
    "\n",
    "# End of code"
   ]
  },
  {
   "cell_type": "markdown",
   "metadata": {},
   "source": [
    "----\n",
    "----"
   ]
  },
  {
   "cell_type": "markdown",
   "metadata": {
    "deletable": true,
    "editable": true
   },
   "source": [
    "**ii.** Πόση είναι η περίοδος σε αριθμό δειγμάτων;"
   ]
  },
  {
   "cell_type": "markdown",
   "metadata": {
    "deletable": true,
    "editable": true
   },
   "source": [
    "## Απάντηση:\n",
    "\n",
    "Γράψτε εδώ την απάντησή σας."
   ]
  },
  {
   "cell_type": "markdown",
   "metadata": {},
   "source": [
    "----\n",
    "----"
   ]
  },
  {
   "cell_type": "markdown",
   "metadata": {
    "deletable": true,
    "editable": true
   },
   "source": [
    "**iii.** Πόση είναι η περίοδος σε δευτερόλεπτα, αν το σήμα συνεχούς χρόνου από το οποίο προήλθε δειγματοληπτήθηκε με συχνότητα δειγματοληψίας $200 \\; Hz$;"
   ]
  },
  {
   "cell_type": "markdown",
   "metadata": {
    "deletable": true,
    "editable": true
   },
   "source": [
    "## Απάντηση:\n",
    "\n",
    "Γράψτε εδώ την απάντησή σας."
   ]
  },
  {
   "cell_type": "markdown",
   "metadata": {},
   "source": [
    "----\n",
    "----"
   ]
  },
  {
   "cell_type": "markdown",
   "metadata": {
    "deletable": true,
    "editable": true
   },
   "source": [
    "**(Γ')** Έστω το σήμα διακριτού χρόνου\n",
    "\\begin{equation}\n",
    "x[n] = \\cos(0.1\\pi + 0.4n) \\tag{3}\n",
    "\\end{equation}\n",
    "όπου $n=0,1,\\cdots,99$. \n",
    "\n",
    "**(α΄)** Σχεδιάστε με την εντολή *stem* το σήμα.\n"
   ]
  },
  {
   "cell_type": "markdown",
   "metadata": {
    "deletable": true,
    "editable": true
   },
   "source": [
    "## Απάντηση:"
   ]
  },
  {
   "cell_type": "code",
   "execution_count": null,
   "metadata": {
    "collapsed": false,
    "deletable": true,
    "editable": true
   },
   "outputs": [],
   "source": [
    "# Insert code here\n",
    "\n",
    "\n",
    "\n",
    "\n",
    "\n",
    "# End of code"
   ]
  },
  {
   "cell_type": "markdown",
   "metadata": {},
   "source": [
    "----\n",
    "----"
   ]
  },
  {
   "cell_type": "markdown",
   "metadata": {
    "deletable": true,
    "editable": true
   },
   "source": [
    "**(β΄)** Ελέγξτε το γράφημα. Είναι το σήμα περιοδικό; Ποιά περίοδο βρίσκετε \"με το μάτι\";"
   ]
  },
  {
   "cell_type": "markdown",
   "metadata": {
    "deletable": true,
    "editable": true
   },
   "source": [
    "## Απάντηση:\n",
    "\n",
    "Γράψτε εδώ την απάντησή σας."
   ]
  },
  {
   "cell_type": "markdown",
   "metadata": {},
   "source": [
    "---\n",
    "---"
   ]
  },
  {
   "cell_type": "markdown",
   "metadata": {
    "deletable": true,
    "editable": true
   },
   "source": [
    "**(γ΄)** Επιβεβαιώστε (ή διαψέυστε) την απάντησή σας υπολογίζοντας θεωρητικά την περίοδο. "
   ]
  },
  {
   "cell_type": "markdown",
   "metadata": {
    "deletable": true,
    "editable": true
   },
   "source": [
    "Γράψτε εδώ την απάντησή σας."
   ]
  },
  {
   "cell_type": "markdown",
   "metadata": {},
   "source": [
    "----\n",
    "----"
   ]
  },
  {
   "cell_type": "markdown",
   "metadata": {
    "collapsed": true,
    "deletable": true,
    "editable": true
   },
   "source": [
    "# Άσκηση 2 - Κατανόηση Ενέργειας και Ισχύος (20 μ.)"
   ]
  },
  {
   "cell_type": "markdown",
   "metadata": {
    "deletable": true,
    "editable": true
   },
   "source": [
    "Υπολογίστε σε *Python* την ενέργεια ή την ισχύ (ή τίποτε από τα δυο) των παρακάτω σημάτων. Χρησιμοποιήστε τα hints του μαθήματος για να γλιτώσετε πράξεις:\n",
    "\n",
    "**(α')** $x[n] = \\Big(\\frac{1}{2}\\Big)^n u[n]$\n",
    "\n",
    "**(β')** $x[n] = 2\\cos\\Big(\\frac{3\\pi}{4}n\\Big)$\n",
    "\n",
    "**(γ')** $x[n] = 3^n u[-n]$\n",
    "\n",
    "**(δ')** $x[n] = \\left\\{\\begin{array}{lll}\n",
    "-1, & n < 0 \\\\\n",
    "0, & n = 0 \\\\\n",
    "1, & n > 0\n",
    "\\end{array}\\right.$\n",
    "\n",
    "Ενδεικτικά, σας δίνεται ο κώδικας για τον υπολογισμό της ισχύος της βηματικής συνάρτησης $u[n]$:"
   ]
  },
  {
   "cell_type": "code",
   "execution_count": null,
   "metadata": {},
   "outputs": [],
   "source": [
    "# Set a large number for N\n",
    "N=5000\n",
    "\n",
    "# Define signal\n",
    "n=np.arange(-5000, 5001)\n",
    "u=np.heaviside(n, 0)\n",
    "\n",
    "# Calculating Power P\n",
    "P = 1/(2*N)*np.sum(np.power(u,2))\n",
    "\n",
    "print('P =' , P)"
   ]
  },
  {
   "cell_type": "markdown",
   "metadata": {},
   "source": [
    "\n",
    "Ο κώδικάς σε *python* απαντά ότι\n",
    "\n",
    "    P = 0.5\n",
    "\n",
    "που είναι και η σωστή απάντηση.\n"
   ]
  },
  {
   "cell_type": "markdown",
   "metadata": {},
   "source": [
    "----\n",
    "----"
   ]
  },
  {
   "cell_type": "markdown",
   "metadata": {
    "deletable": true,
    "editable": true
   },
   "source": [
    "## Απάντηση:\n",
    "\n",
    "**(a)** Γράψτε εδώ την απάντησή σας."
   ]
  },
  {
   "cell_type": "code",
   "execution_count": null,
   "metadata": {
    "collapsed": false,
    "deletable": true,
    "editable": true
   },
   "outputs": [],
   "source": [
    "# Insert code here\n",
    "\n",
    "\n",
    "\n",
    "\n",
    "# End of code"
   ]
  },
  {
   "cell_type": "markdown",
   "metadata": {},
   "source": [
    "----\n",
    "----"
   ]
  },
  {
   "cell_type": "markdown",
   "metadata": {
    "deletable": true,
    "editable": true
   },
   "source": [
    "**(β')** Γράψτε εδώ την απάντησή σας."
   ]
  },
  {
   "cell_type": "code",
   "execution_count": null,
   "metadata": {
    "collapsed": false,
    "deletable": true,
    "editable": true
   },
   "outputs": [],
   "source": [
    "# Insert code here\n",
    "\n",
    "\n",
    "\n",
    "\n",
    "# End of code"
   ]
  },
  {
   "cell_type": "markdown",
   "metadata": {},
   "source": [
    "----\n",
    "----"
   ]
  },
  {
   "cell_type": "markdown",
   "metadata": {
    "deletable": true,
    "editable": true
   },
   "source": [
    "**(γ')** Γράψτε εδώ την απάντησή σας."
   ]
  },
  {
   "cell_type": "code",
   "execution_count": null,
   "metadata": {
    "collapsed": false,
    "deletable": true,
    "editable": true
   },
   "outputs": [],
   "source": [
    "# Insert code here\n",
    "\n",
    "\n",
    "\n",
    "\n",
    "# End of code"
   ]
  },
  {
   "cell_type": "markdown",
   "metadata": {},
   "source": [
    "----\n",
    "----"
   ]
  },
  {
   "cell_type": "markdown",
   "metadata": {
    "deletable": true,
    "editable": true
   },
   "source": [
    "**(δ')** Γράψτε εδώ την απάντησή σας."
   ]
  },
  {
   "cell_type": "code",
   "execution_count": null,
   "metadata": {
    "collapsed": false,
    "deletable": true,
    "editable": true
   },
   "outputs": [],
   "source": [
    "# Insert code here\n",
    "\n",
    "\n",
    "\n",
    "\n",
    "# End of code"
   ]
  },
  {
   "cell_type": "markdown",
   "metadata": {},
   "source": [
    "----\n",
    "----"
   ]
  },
  {
   "cell_type": "markdown",
   "metadata": {
    "deletable": true,
    "editable": true
   },
   "source": [
    "# Άσκηση 3 - Σήματα σε *Python* (30 μ.)"
   ]
  },
  {
   "cell_type": "markdown",
   "metadata": {
    "deletable": true,
    "editable": true
   },
   "source": [
    "Σε *Python* μπορούμε να αναπαριστούμε σήματα ως *διανύσματα* για να κάνουμε βασικές πράξεις. \n",
    "\n",
    "Τα πιο ενδιαφέροντα σήματα βέβαια προέρχονται από πραγματικά δεδομένα, αλλά μέχρι να φτάσουμε εκεί 🙂 ας παίξουμε λίγο με απλά σήματα και απλές πράξεις.\n",
    "\n",
    "**Α'.** Ένα σήμα στην *Python* αναπαρίσταται ως\n",
    "\n",
    "$x = [-1, 1, 2, -5, 2, 4, 3, 0, 1, 5, -2];$\n",
    "\n",
    "αλλά καταλαβαίνετε ότι με αυτόν τον τρόπο δε γνωρίζουμε σε ποιά χρονική στιγμή αντιστοιχεί κάθε δείγμα από τα παραπάνω (Δηλ. αυτός που το έγραψε ίσως γνωρίζει, αλλά κανείς άλλος δε γνωρίζει 🙂). "
   ]
  },
  {
   "cell_type": "markdown",
   "metadata": {},
   "source": [
    "Ας ορίσουμε ένα άλλο διάνυσμα, ίδιου μεγέθους, που να ορίζει τις χρονικές στιγμές:\n",
    "\n",
    "$n = [-2, -1, 0, 1, 2, 3, 4, 5, 6, 7, 8];$\n",
    "\n",
    "Γενικότερα ο χρόνος $n$ δε θα μας απασχολεί σε πραγματικές εφαρμογές παρά μόνο για γραφήματα ή για απλές περιπτώσεις. Όμως σε αυτήν την άσκηση θα τον κρατήσουμε για λόγους εξοικείωσης.\n",
    "\n",
    "Η γνωστή σας συνάρτηση Δέλτα ορίζεται ως\n",
    "\n",
    "\\begin{equation}\n",
    "\\delta[n] = \\left\\{\n",
    "\\begin{array}{ll}\n",
    "1, & n = 0 \\\\\n",
    "0, & n \\neq 0\n",
    "\\end{array}\\right.\n",
    "\\end{equation}\n",
    "\n",
    "και μπορεί να υλοποιηθεί (ως πεπερασμένης διάρκειας έκδοση) με χρήση της εντολής np.heaviside\n",
    "\n",
    "    n = np.arange(0,N+1);\n",
    "    d = np.heaviside(-n, 1);\n",
    "\n",
    "Το πρόβλημα με την παραπάνω είναι ότι υλοποιεί ακριβώς τη συνάρτηση \n",
    "\n",
    "\\begin{equation}\n",
    "\\delta[n] = \\left\\{\n",
    "\\begin{array}{ll}\n",
    "1, & n = 0\\\\\n",
    "0, & 0 < n \\leq N\n",
    "\\end{array}\\right.\n",
    "\\end{equation}\n",
    "\n",
    "στο διάστημα $0 \\leq n \\leq N$. Όμως μια συνάρτηση Δέλτα μπορεί να \"ζει\" σε οποιοδήποτε δείγμα (κι όχι απαραίτητα μόνο στο μηδέν), οπότε ας γράψουμε μια συνάρτηση σε *python* που να υλοποιεί την\n",
    "\n",
    "\\begin{equation}\n",
    "\\delta[n-n_0] = \\left\\{\n",
    "\\begin{array}{ll}\n",
    "1, & n = n_0 \\\\\n",
    "0, & n \\neq n_0\n",
    "\\end{array}\\right.\n",
    "\\end{equation}\n",
    "\n",
    "σε ένα διάστημα $n_1 \\leq n_0 \\leq n_2$:"
   ]
  },
  {
   "cell_type": "code",
   "execution_count": null,
   "metadata": {},
   "outputs": [],
   "source": [
    "def deltafunc(n0, n1, n2):\n",
    "\n",
    "    # Generates x[n] = delta[n-n0], where n1 <= n0 <= n2\n",
    "    # --------------------------------------------------\n",
    "    # %\n",
    "\n",
    "    n = np.arange(n1,n2+1)\n",
    "    x = [(n-n0) == 0]\n",
    "    return np.asarray(x).astype(int).ravel(), n"
   ]
  },
  {
   "cell_type": "markdown",
   "metadata": {},
   "source": [
    "Ακριβώς όμοια μπορούμε να γράψουμε μια συνάρτηση που υλοποιεί τη βηματική συνάρτηση\n",
    "\n",
    "\\begin{equation}\n",
    "u[n-n_0] = \\left\\{\\begin{array}{ll}\n",
    "1, & n \\geq n_0 \\\\\n",
    "0, & n < n_0\n",
    "\\end{array}\\right.\n",
    "\\end{equation}\n",
    "\n",
    "σε ένα διάστημα $n_1 \\leq n_0 \\leq n_2$:"
   ]
  },
  {
   "cell_type": "code",
   "execution_count": null,
   "metadata": {},
   "outputs": [],
   "source": [
    "def unitstepfunc(n0, n1, n2):\n",
    "    # % Generates x[n] = u[n-n0], where n1 <= n0 <= n2\n",
    "    # % --------------------------------------------------\n",
    "    # %\n",
    "\n",
    "    n = np.arange(n1,n2+1)\n",
    "    x = [(n-n0) >= 0]\n",
    "    return np.asarray(x).astype(int).ravel(), n"
   ]
  },
  {
   "cell_type": "markdown",
   "metadata": {},
   "source": [
    "Με χρήση των παραπάνω συναρτήσεων που σας δίνονται, παράξτε και κάντε τη γραφική παράσταση (συνάρτηση stem των σημάτων).\n",
    "\n",
    "i. $x[n] = 2\\delta[n+2] - \\frac{1}{4}\\delta[n-4], \\: \\: -5 \\leq n \\leq 5$\n",
    "\n",
    "ii. $x[n] = n(u[n] - u[n-10])+ 10e^{-0.3(n-10)}(u[n-10] - u[n-20]), \\: \\: 0 \\leq n \\leq 20$"
   ]
  },
  {
   "cell_type": "markdown",
   "metadata": {},
   "source": [
    "---\n",
    "---"
   ]
  },
  {
   "cell_type": "markdown",
   "metadata": {
    "deletable": true,
    "editable": true
   },
   "source": [
    "## Απάντηση:\n",
    "\n",
    "**i.** "
   ]
  },
  {
   "cell_type": "code",
   "execution_count": null,
   "metadata": {
    "collapsed": false,
    "deletable": true,
    "editable": true
   },
   "outputs": [],
   "source": [
    "# Insert code here\n",
    "\n",
    "\n",
    "\n",
    "\n",
    "# End of code"
   ]
  },
  {
   "cell_type": "markdown",
   "metadata": {},
   "source": [
    "---\n",
    "---"
   ]
  },
  {
   "cell_type": "markdown",
   "metadata": {
    "collapsed": false,
    "deletable": true,
    "editable": true
   },
   "source": [
    "**ii.** "
   ]
  },
  {
   "cell_type": "code",
   "execution_count": null,
   "metadata": {
    "collapsed": false,
    "deletable": true,
    "editable": true
   },
   "outputs": [],
   "source": [
    "# Insert code here\n",
    "\n",
    "\n",
    "\n",
    "\n",
    "# End of code"
   ]
  },
  {
   "cell_type": "markdown",
   "metadata": {},
   "source": [
    "----\n",
    "----"
   ]
  },
  {
   "cell_type": "markdown",
   "metadata": {
    "collapsed": true,
    "deletable": true,
    "editable": true
   },
   "source": [
    "**Β'.** Επίσης, παρ' όλο που οι βασικές αριθμητικές πράξεις (κι ακόμα περισσότερες!) υπάρχουν υλοποιημένες σε *Python*, μην ξεχνάτε ότι έχουμε να κάνουμε με διανύσματα, ήτοι με μονοδιάστατους πίνακες: οι κανόνες της Γραμμικής Άλγεβρας πρέπει να τηρούνται όταν κάνουμε πράξεις με διανύσματα! Έτσι, είναι βολικότερο να ορίσουμε κάποιες συναρτήσεις που διαχειρίζονται τα σχετικά μεγέθη των διανυσμάτων που θέλουμε να κάνουμε πράξεις με αυτά. \n",
    "\n",
    "Για παράδειγμα, μια συνάρτηση που εκτελεί πρόσθεση δυο σημάτων κάνοντας κατάλληλη διαχείριση του μεγέθους του κάθε μονοδιάστατου πίνακα πριν την πρόσθεση είναι η ακόλουθη:"
   ]
  },
  {
   "cell_type": "code",
   "execution_count": null,
   "metadata": {},
   "outputs": [],
   "source": [
    "def sigadd(x1, n1, x2, n2):\n",
    "# Implements y[n] = x1[n] + x2[n]\n",
    "# -----------------------------\n",
    "# y = sum sequence over n, which includes n1 and n2\n",
    "# x1 = first sequence over n1\n",
    "# x2 = second sequence over n2 (n2 can be different from n1)\n",
    "# \n",
    "\n",
    "    n = np.arange(min(min(n1), min(n2)), max(max(n1), max(n2)) +1) # duration of y(n)\n",
    "\n",
    "    y1 = np.zeros(len(n), dtype = np.int16) # initialization\n",
    "\n",
    "    y2 = y1; \n",
    "\n",
    "    # x1 with duration of y  \n",
    "    t1 = (n >= min(n1)) & ((n <= max(n1)) == 1)\n",
    "    t1=[i for i, x in enumerate(t1) if x]\n",
    "    y1[t1] = x1\n",
    "\n",
    "    # x2 with duration of y\n",
    "    t2 = (n >= min(n2)) & ((n <= max(n2)) == 1)\n",
    "    t2=[i for i, x in enumerate(t2) if x]\n",
    "    y2[t2] = x2\n",
    "    \n",
    "    y = y1 + y2\n",
    "    \n",
    "    return y, n"
   ]
  },
  {
   "cell_type": "markdown",
   "metadata": {},
   "source": [
    "\n",
    "Επίσης πολύ χρήσιμη πράξη είναι ο μετασχηματισμός της χρονικής μετατόπισης\n",
    "\n",
    "$$y[n] = x[n-k], \\: \\: k \\in \\mathbb{Z} \\tag{8}$$\n",
    "\n",
    "ο οποίος μπορεί να υλοποιηθεί πολύ απλά ως"
   ]
  },
  {
   "cell_type": "code",
   "execution_count": null,
   "metadata": {},
   "outputs": [],
   "source": [
    "def sigshift(x, m, k):\n",
    "# Ιmplements y[n] = x[n-k]\n",
    "# ------------------------\n",
    "# \n",
    "    n = m+k \n",
    "    y = x\n",
    "    \n",
    "    return y, n"
   ]
  },
  {
   "cell_type": "markdown",
   "metadata": {},
   "source": [
    "---\n",
    "---"
   ]
  },
  {
   "cell_type": "markdown",
   "metadata": {},
   "source": [
    "**i.** Γράψτε συνάρτηση y, n = sigfold(x, n) η οποία υλοποιεί το μετασχηματισμό της χρονικής αντιστροφής\n",
    "\n",
    "$$y[n] = x[-n] \\tag{9} $$\n",
    "\n",
    "Μπορείτε (και συνίσταται ένθερμα) να χρησιμοποιήσετε τη συνάρτηση fliplr της βιβλιοθήκης numpy. Γράψτε np.fliplr? για να δείτε το *documentation* της.\n",
    "\n",
    "**ii.**  Σας δίνεται το σήμα"
   ]
  },
  {
   "cell_type": "code",
   "execution_count": null,
   "metadata": {},
   "outputs": [],
   "source": [
    "n = np.arange(-2, 11) \n",
    "x = np.hstack([np.arange(1,8),np.arange(6,0,-1)])"
   ]
  },
  {
   "cell_type": "markdown",
   "metadata": {},
   "source": [
    "\n",
    "Χρησιμοποιήστε τη συνάρτηση *stem* για να κάνετε τη γραφική του παράσταση. Αναφέρετε το γράφημα στην αναφορά σας.\n",
    "\n",
    "**iii.**  Σχεδιάστε τα σήματα $y[n]$ με βάση το σήμα $x[n]$ του προηγούμενου ερωτήματος, ως:\n",
    "\n",
    "**(α')** $$y[n] = 2x[n-5] - 3x[n+4]$$\n",
    "<br>\n",
    "\n",
    "**(β')** $$y[n] = x[3-n] - x[n+1]$$\n"
   ]
  },
  {
   "cell_type": "markdown",
   "metadata": {
    "deletable": true,
    "editable": true
   },
   "source": [
    "## Απάντηση:\n",
    "\n",
    "**i.**"
   ]
  },
  {
   "cell_type": "code",
   "execution_count": null,
   "metadata": {
    "collapsed": false,
    "deletable": true,
    "editable": true
   },
   "outputs": [],
   "source": [
    "# Insert code here\n",
    "\n",
    "\n",
    "\n",
    "\n",
    "# End of code"
   ]
  },
  {
   "cell_type": "markdown",
   "metadata": {},
   "source": [
    "----\n",
    "----"
   ]
  },
  {
   "cell_type": "markdown",
   "metadata": {
    "deletable": true,
    "editable": true
   },
   "source": [
    "**ii.**"
   ]
  },
  {
   "cell_type": "code",
   "execution_count": null,
   "metadata": {
    "collapsed": false,
    "deletable": true,
    "editable": true
   },
   "outputs": [],
   "source": [
    "# Insert code here\n",
    "\n",
    "\n",
    "\n",
    "\n",
    "# End of code"
   ]
  },
  {
   "cell_type": "markdown",
   "metadata": {},
   "source": [
    "----\n",
    "----"
   ]
  },
  {
   "cell_type": "markdown",
   "metadata": {
    "deletable": true,
    "editable": true
   },
   "source": [
    "**iii.**\n",
    "\n",
    "**(α')**"
   ]
  },
  {
   "cell_type": "code",
   "execution_count": null,
   "metadata": {
    "collapsed": false,
    "deletable": true,
    "editable": true
   },
   "outputs": [],
   "source": [
    "# Insert code here\n",
    "\n",
    "\n",
    "\n",
    "\n",
    "# End of code"
   ]
  },
  {
   "cell_type": "markdown",
   "metadata": {},
   "source": [
    "----\n",
    "----"
   ]
  },
  {
   "cell_type": "markdown",
   "metadata": {
    "deletable": true,
    "editable": true
   },
   "source": [
    "**(β')**"
   ]
  },
  {
   "cell_type": "code",
   "execution_count": null,
   "metadata": {
    "collapsed": false,
    "deletable": true,
    "editable": true
   },
   "outputs": [],
   "source": [
    "# Insert code here\n",
    "\n",
    "\n",
    "\n",
    "\n",
    "# End of code"
   ]
  },
  {
   "cell_type": "markdown",
   "metadata": {},
   "source": [
    "----\n",
    "----"
   ]
  },
  {
   "cell_type": "markdown",
   "metadata": {
    "collapsed": true,
    "deletable": true,
    "editable": true
   },
   "source": [
    "# Άσκηση 4 - Ασφαλής Επικοινωνία (30 μ.)"
   ]
  },
  {
   "cell_type": "markdown",
   "metadata": {
    "deletable": true,
    "editable": true
   },
   "source": [
    "Για την ασφαλή επικοινωνία δεδομένων μεταξύ δυο σταθμών, χρησιμοποιούμε ένα πρότυπο σήμα μήκος $50$ δειγμάτων, για να το προσθέσουμε ως θόρυβο σε τυχαίες χρονικές στιγμές στα σήματα που θέλουμε να στείλουμε. Το σήμα-πρότυπο βρίσκεται στο αρχείο *Pat.wav*, και το έχουν τόσο ο πομπός όσο και ο δέκτης. Το σήμα που εμείς λάβαμε σε κάποια χρονική στιγμή στο δέκτη είναι το σήμα *noisySpeech.wav*. Ας τα φορτώσουμε και ας τα ακούσουμε:\n"
   ]
  },
  {
   "cell_type": "code",
   "execution_count": null,
   "metadata": {
    "collapsed": false,
    "deletable": true,
    "editable": true
   },
   "outputs": [],
   "source": [
    "fs, pattern = wavfile.read('./Pat.wav')     # διαβάζουμε το συνοδευτικό wav αρχείο\n",
    "pattern = pattern / (2**15)                 # κανονικοποιούμε στο [-1,1]\n",
    "\n",
    "fig = plt.figure(figsize=(12,4))  \n",
    "plt.plot(pattern); plt.xlabel('Samples')"
   ]
  },
  {
   "cell_type": "code",
   "execution_count": null,
   "metadata": {},
   "outputs": [],
   "source": [
    "Audio(pattern, rate=fs)             # ακούμε! :)"
   ]
  },
  {
   "cell_type": "code",
   "execution_count": null,
   "metadata": {},
   "outputs": [],
   "source": [
    "fs, noisy = wavfile.read('./noisySpeech.wav')     # διαβάζουμε το συνοδευτικό wav αρχείο\n",
    "noisy = noisy / (2**15)                           # κανονικοποιούμε στο [-1,1]\n",
    "\n",
    "fig = plt.figure(figsize=(12,4))  \n",
    "plt.plot(noisy); plt.xlabel('Samples')\n",
    "plt.show()"
   ]
  },
  {
   "cell_type": "code",
   "execution_count": null,
   "metadata": {},
   "outputs": [],
   "source": [
    "Audio(noisy, rate=fs)             # ακούμε! :)"
   ]
  },
  {
   "cell_type": "markdown",
   "metadata": {
    "deletable": true,
    "editable": true
   },
   "source": [
    "\n",
    "Η εντολή *plot* είναι βολικότερη εδώ για την απεικόνιση, αλλά στην πραγματικότητα τα σήματά μας είναι διακριτού χρόνου (μπορείτε να το δείτε με την εντολή stem, όπως την γνωρίζετε).\n",
    "\n",
    "Θα θέλαμε να ανακτήσουμε το καθαρό σήμα. Για το σκοπό αυτό, μπορούμε να χρησιμοποιήσουμε την πράξη της *ετεροσυσχέτισης*, η οποία ορίζεται ως\n",
    "\n",
    "\n",
    "$$\\phi_{xy}[l] = \\sum_{n=-\\infty}^{+\\infty} x[n]y[n+l] \\tag{10}$$\n",
    "\n",
    "\n",
    "Όμοια με την πράξη της ετεροσυσχέτισης στο συνεχή χρόνο, μας αποκαλύπτει ομοιότητες και διαφορές μεταξύ των σημάτων που συσχετίζονται. Ο δείκτης $l$ ονομάζεται *lag*, που σημαίνει *καθυστέρηση*, και έχει ακριβώς όμοιο ρόλο με τη μεταβλητή $\\tau$ στο συνεχή χρόνο (Θυμηθείτε: $$\n",
    "\\phi_{xy}(\\tau) = \\int_{-\\infty}^{+\\infty} x(t)y(t+\\tau)dt \\tag{11}$$ \n",
    "\n",
    "Η συνάρτηση cross_corr = signal.correlate(...) της βιβλιοθήκης scipy θα σας βοηθήσει να συσχετίσετε τα σήματα. Δείτε προσεκτικά (!) το *documentation* της, καθώς η υλοποίηση διαφέρει λίγο από τον παραπάνω ορισμό, και όπως ίσως θυμάστε και από το συνεχή χρόνο, η ετεροσυσχέτιση είναι διαφορετική όταν συσχετίσουμε το $x[n]$ με το $y[n]$ απ' όταν συσχετίσουμε το $y[n]$ με το $x[n]$. Στις χρονικές τιμές των *lags* όπου η τιμή της ετεροσυσχέτισης είναι μεγάλη, σημαίνει ότι εκεί έχει βρεθεί μεγάλη ομοιότητα του ενός σήματος με το άλλο. Χρησιμοποιήστε τη συνάρτηση signal.correlation_lags για να βρείτε τις χρονικές στιγμές της ετεροσυσχέτισης.\n",
    "\n",
    "Προς βοήθειά σας, πληροφορείστε ότι το πρότυπο σήμα έχει προστεθεί σε $650$ (!!) τυχαίες θέσεις στο σήμα *noisySpeech.wav*. Αν βρείτε αυτές τις θέσεις, μπορείτε απλά να το αφαιρέσετε με μια απλή πράξη αφαίρεσης του σήματος προτύπου από το θορυβώδες σήμα. Επίσης, το σήμα που έχει σταλεί στο δέκτη περιέχει παιδική ποίηση πολύ καλής ποιότητας 🙂. Αυτό θα σας βοηθήσει να ελέγξετε τα αποτελέσματά σας.\n"
   ]
  },
  {
   "cell_type": "markdown",
   "metadata": {},
   "source": [
    "\n",
    "Ο παρακάτω κώδικας θα σας βοηθήσει. Χρησιμοποιήστε το *documentation* όπου έχετε αμφιβολία.\n",
    "\n",
    "Η συνάρτηση find_peaks της βιβλιοθήκης *scipy* είναι πολύ βολική για να βρίσκετε κορυφές σε μια συνάρτηση, ανάλογα με το πόσο απέχουν μεταξύ τους, με το αν θέλετε να υπερβαίνουν κάποια τιμή, κλπ. Ρίξτε απλά μια ματιά στο *documentation* της συνάρτησης για να δείτε τις δυνατότητές της, μια και η εντολή όπως δίνεται στον παραπάνω κώδικα είναι πλήρης. Ελέγξτε προσεκτικά τις θέσεις των καθυστερήσεων (τις τιμές των locs δηλαδή) που σας επιστρέφει η find_peaks. Δείτε τι υπάρχει στο θορυβώδες σήμα σε αυτές τις χρονικές στιγμές. "
   ]
  },
  {
   "cell_type": "markdown",
   "metadata": {
    "deletable": true,
    "editable": true
   },
   "source": [
    "## Απάντηση:"
   ]
  },
  {
   "cell_type": "code",
   "execution_count": null,
   "metadata": {
    "collapsed": false,
    "deletable": true,
    "editable": true,
    "scrolled": true
   },
   "outputs": [],
   "source": [
    "cross_corr = # Insert code here  # Compute cross-correlation\n",
    "lags =  # Insert code here       # find correlation time axis (lags)\n",
    "\n",
    "fig = plt.figure(figsize=(10,4)) \n",
    "plt.plot(lags, cross_corr); # Plot it and check it carefully\n",
    "plt.xlabel('Lags'); plt.title('Cross-correlation')\n",
    "plt.show()"
   ]
  },
  {
   "cell_type": "code",
   "execution_count": null,
   "metadata": {},
   "outputs": [],
   "source": [
    "# Using information from the plot, define a good threshold T\n",
    "# which separates peaks from other -not useful- data\n",
    "# Zoom in!\n",
    "fig = plt.figure(figsize=(12,4)) \n",
    "plt.plot(lags[0:10000], cross_corr[0:10000]) # Plot it and check it carefully\n",
    "plt.xlabel('Lags'); plt.title('Zoomed Cross-correlation') # It's necessary to zoom in\n",
    "plt.show()"
   ]
  },
  {
   "cell_type": "code",
   "execution_count": null,
   "metadata": {},
   "outputs": [],
   "source": [
    "T = # Insert code here           # What is the threshold to determine peaks?\n",
    "\n",
    "# Use signal.findpeaks to easily detect instants of high correlation\n",
    "# T will be used as the minimum peak height threshold\n",
    "#-------------------------------------------------------------\n",
    "\n",
    "[locs, pks] = # Insert code here    # Use signal.findpeaks\n",
    "locs = lags[locs]\n",
    "pks = np.array(list(pks.values())).ravel()\n",
    "\n",
    "# ------------------------------------------------------------\n",
    "# Check without counting peaks :)\n",
    "print(f'Peaks detected = {locs.size}') # is it 650 ?????"
   ]
  },
  {
   "cell_type": "code",
   "execution_count": null,
   "metadata": {},
   "outputs": [],
   "source": [
    "# Copy noisy signal to process it\n",
    "clean = np.copy(noisy)\n",
    "\n",
    "# Subtract pattern from noisy signal - use \"clean\" vector\n",
    "# For every lag index present in vector locs, you have\n",
    "# to subtract the pattern signal from the received signal\n",
    "# Use operator \":\" to choose pieces of the signal in Numpy\n",
    "# as follows:\n",
    "# signal[start:end] = signal[start:end] - another_signal[start:end];\n",
    "for i in range(0, len(locs), 1):\n",
    "    # Insert code here\n",
    "\n",
    "# Take a look!\n",
    "fig = plt.figure(figsize=(12,4))\n",
    "plt.plot(clean)\n",
    "plt.show()"
   ]
  },
  {
   "cell_type": "code",
   "execution_count": null,
   "metadata": {},
   "outputs": [],
   "source": [
    "# Listen! It should sound perfectly clear...\n",
    "Audio(clean, rate=fs)             # ακούμε! :)"
   ]
  },
  {
   "cell_type": "markdown",
   "metadata": {},
   "source": [
    "----\n",
    "----"
   ]
  },
  {
   "cell_type": "markdown",
   "metadata": {
    "deletable": true,
    "editable": true
   },
   "source": [
    "### Για την παράδοση της άσκησης, παραδώστε συμπληρωμένο αυτό το *Python* αρχείο, με εκτελεσμένο κάθε κελί κώδικα, μετονομασμένο σε\n",
    "\n",
    "### <center> Lab1Ex1_AM.ipynb\n",
    "\n",
    "### Η παράδοση γίνεται μέσω e-mail στα\n",
    "<br>\n",
    "\n",
    "### <center> csd4390@csd.uoc.gr\n",
    "\n",
    "### <center> και\n",
    "\n",
    "### <center> csd4262@csd.uoc.gr\n",
    "\n",
    "### Σε περίπτωση που έχετε ομάδα 2 ατόμων, το όνομα του αρχείο θα πρέπει να είναι \n",
    "\n",
    "### <center> Lab1Ex1_AM1_ΑΜ2.ipynb\n",
    "\n",
    "### και πρέπει να αποσταλεί ΜΟΝΟ από ένα (οποιοδήποτε) μέλος της ομάδας.\n",
    "\n",
    "## <center> Ανάθεση: 7/10/2023\n",
    "## <center> Προθεσμία: 15/10/2023, 23:59:59"
   ]
  }
 ],
 "metadata": {
  "kernelspec": {
   "display_name": "Python 3",
   "language": "python",
   "name": "python3"
  },
  "language_info": {
   "codemirror_mode": {
    "name": "ipython",
    "version": 3
   },
   "file_extension": ".py",
   "mimetype": "text/x-python",
   "name": "python",
   "nbconvert_exporter": "python",
   "pygments_lexer": "ipython3",
   "version": "3.9.16"
  }
 },
 "nbformat": 4,
 "nbformat_minor": 2
}
