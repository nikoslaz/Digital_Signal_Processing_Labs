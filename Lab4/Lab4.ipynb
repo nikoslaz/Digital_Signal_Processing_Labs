{
 "cells": [
  {
   "cell_type": "markdown",
   "metadata": {},
   "source": [
    "<div align=\"center\">\n",
    "    \n",
    "# ΠΑΝΕΠΙΣΤΗΜΙΟ ΚΡΗΤΗΣ\n",
    "# Τμήμα Επιστήμης Υπολογιστών\n",
    "\n",
    "## HY-370: Ψηφιακή Επεξεργασία Σημάτων\n",
    "## Χειμερινό Εξάμηνο 2023-2024\n",
    "### Διδάσκοντες: Γ. Στυλιανού, Γ. Καφεντζής\n",
    "\n",
    "## Ανάθεση: 8 Δεκέμβρη 2023\n",
    "## Παράδοση: 22 Δεκέμβρη 2023, 23:59:59\n",
    "(ο τρόπος παράδοσης βρίσκεται στο τέλος του αρχείου αυτού)"
   ]
  },
  {
   "cell_type": "code",
   "execution_count": null,
   "id": "abeab130",
   "metadata": {
    "ExecuteTime": {
     "end_time": "2023-08-24T11:56:53.644518300Z",
     "start_time": "2023-08-24T11:56:52.040419500Z"
    }
   },
   "outputs": [],
   "source": [
    "import numpy as np\n",
    "from matplotlib.pyplot import axvline, axhline\n",
    "from collections import defaultdict\n",
    "import scipy.signal as sig\n",
    "import scipy.special as sp\n",
    "import matplotlib.pyplot as plt\n",
    "from  matplotlib import patches\n",
    "from IPython.display import Audio      # βιβιοθήκη για να \"παίζουμε\" ήχους (μεταξύ άλλων)\n",
    "from scipy import signal\n",
    "from scipy.io import wavfile"
   ]
  },
  {
   "cell_type": "markdown",
   "id": "95a68b12",
   "metadata": {
    "slideshow": {
     "slide_type": "notes"
    }
   },
   "source": [
    "# Άσκηση 1 - Σχεδίαση IIR Φίλτρων μέσω του Αναλογικού Χώρου\n",
    "\n",
    "Στις διαλέξεις είδατε δυο διαφορετικούς τρόπους µε τους οποίους µπορείτε να υλοποιήσετε ψηφιακά φίλτρα από\n",
    "προδιαγραφές που σας δίνονται (ή που ορίζετε εσείς), χρησµοποιώντας γνώσεις από τη σχεδίαση φίλτρων στο συνεχή\n",
    "χρόνο. Εδώ θα υλοποιήσουµε αυτά τα φίλτρα τόσο µε αναλυτικό όσο και µε σύντοµο τρόπο, και θα εφαρµόσουµε\n",
    "σήµατα φωνής στην είσοδό τους, ώστε να ακούσουµε το αποτέλεσµα που αυτά παράγουν.\n"
   ]
  },
  {
   "cell_type": "markdown",
   "id": "9b63fd88",
   "metadata": {},
   "source": [
    "## I. <u>Impulse Invariance-based Butterworth Filter</u>\n",
    "\n",
    "  Η τεχνική του **Impulse Invariance (II)** περιγράφει το πως από ένα φίλτρο συνεχούς χρόνου $h_{c}(t)$ μπορεί κανείς να υλοποιήσει το αντίστοιχο διακριτού χρόνου $h[n]$, απλά δειγματοληπτώντας την κρουστική του απόκριση φίλτρου συνεχούς χρόνου $h_{c}(t)$. Είδαμε ότι αν το φίλτρο του συνεχούς χρόνου με κρουστική απόκριση $h_c(t)$ δίνεται στο χώρο του Laplace ως\n",
    "    \n",
    "$$H_{c}(s) = \\sum_{k=1}^{N}\\frac{A_{k}}{s-s_{k}}\\tag{1}$$\n",
    "\n",
    "τότε η μέθοδος (II) μετατρέπει το φίλτρο αυτό σε διακριτού χρόνου $h_{c}[n]$ με μετασχ. Ζ $H(z)$ ως\n",
    "\n",
    "$$H(z) = \\sum_{k=1}^{N}\\frac{A_{k}}{1-e^{s_{k}T_{d}}z^{-1}}\\tag{2}$$\n",
    "\n",
    "με $T_{d}$ την περίοδο δειγματοληψίας του φίλτρου. Με άλλα λόγια, κάθε όρος της μορφής $$\\frac{A_{k}}{s-s_{k}}$$ της συνάρτησης μεταφοράς $H_{c}(s)$ αντιστοιχίζεται σε έναν όρο της μορφής $$\\frac{A_{k}}{1-e^{s_{k}T_{d}}z^{-1}}$$ της συνάρτησης μεταφοράς $H(z)$."
   ]
  },
  {
   "cell_type": "markdown",
   "metadata": {},
   "source": [
    "---"
   ]
  },
  {
   "cell_type": "markdown",
   "metadata": {},
   "source": [
    "\n",
    "(α') Υλοποιήστε με αναλυτικό τρόπο - υπολοποιώντας πρώτα το αντίστοιχο φίλτρο συνεχούς χρόνου - ένα ψηφιακό χαμηλοπερατό Butterworth φίλτρο, με προδιαγραφές που συζητήσαμε στις διαλέξεις. Προς διευκόλυνσή σας, θυμίζεται ότι το φίλτρο αυτό έχει προδιαγραφές\n",
    "\n",
    "$$0.89125 \\leq |H(e^{j\\omega})| \\leq 1, \\ \\ 0 \\leq |\\omega| \\leq 0.2 \\pi \\tag{3}$$\n",
    "\n",
    "$$|H(e^{j\\omega})| \\leq 0.17783, \\ \\  0.3\\pi \\leq |\\omega| \\leq \\pi \\tag{4}$$\n",
    "\n",
    "Εφ'όσον η περίοδος δειγματοληψίας $T_{d}$ δεν έχει σημασία στη μέθοδο αυτή, θεωρήστε ότι $T_{d} = 1$. Με αυτόν τον τρόπο, η \"διακριτή\" συχνότητα $\\omega$ αντιστοιχεί στη \"συνεχή\" συχνότητα $\\Omega$, δηλ.\n",
    "\n",
    "$$\\Omega = \\omega \\tag{5}$$\n",
    "\n",
    "Άρα οι παραπάνω προδιαγραφές μετατρέπονται ως\n",
    "\n",
    "$$0,89125 \\leq |H(j\\Omega)| \\leq 1, \\ \\ 0 \\leq |\\Omega| \\leq 0.2 \\pi \\tag{6}$$\n",
    "\n",
    "$$|H(j\\Omega)| \\leq 0.17783, \\ \\ 0.3 \\pi \\leq |\\Omega| \\leq \\pi \\tag{7}$$"
   ]
  },
  {
   "cell_type": "markdown",
   "metadata": {},
   "source": [
    "\n",
    "Αυτές είναι προδιαγραφές του φίλτρου συνεχούς χρόνου, το οποίο πρέπει να υλοποιήσετε ρητά, και μετά να το μετατρέψετε σε διακριτού χρόνου με τη μέθοδο της Impulse Invariance. Εν συντομία, πρέπει να λύσετε στο χαρτί σας τις εξισώσεις που υπολογίζουν τις παραμέτρους $N, \\Omega_{c}$ του αναλογικού φίλτρου Butterworth στο χώρο του Fourier: αυτές σας δόθηκαν, και δεδομένου ότι το Butterworth φίλτρο είναι της μορφής \n",
    "\n",
    "$$|H_{c}(j\\Omega)|^{2} = \\frac{1}{1 + \\Big(\\frac{\\Omega}{\\Omega_{c}}\\Big)^{2N}} \\tag{8}$$\n",
    "\n",
    "αυτές οι εξισώσεις είναι\n",
    "\n",
    "$$ 1 + \\Big(\\frac{0.2 \\pi}{\\Omega_{c}}\\Big)^{2N} = \\Bigg(\\frac{1}{0.89125}\\Bigg)^2 \\tag{9}$$\n",
    "\n",
    "$$1 + \\Big(\\frac{0.3 \\pi}{\\Omega_{c}}\\Big)^{2N} = \\Big(\\frac{1}{0.17783}\\Big)^{2} \\tag{10}$$\n",
    "\n",
    "\n",
    "και προέρχονται από την ισότητα στις προδιαγραφές (6, 7).\n",
    "\n",
    "- Λύστε αναλυτικά το παραπάνω σύστημα στο χαρτί σας και βρείτε ότι $N = 5.8858$ και $\\Omega_{c} = 0.70474$. Χρησιμοποιήστε την Python ως αριθμομηχανή ή μια πραγματική αριθμομηχανή. Μεταφέρετε τις λύσεις των εξισώσεων - **όχι τους τελικούς αριθμούς αλλά τις τελικές εξισώσεις, έτσι ώστε αν κάποιος αλλάξει τις τιμές $0.2$, $0.3$ ή $0.89125$, $0.17783$, ο κωδικάς σας να εξακολουθεί να λειτουργεί!!** - στο κελί κώδικα λίγο παρακάτω.\n",
    "\n",
    "- To $N$ πρέπει να είναι ακέραιος , οπότε θέστε το $N$ ως το άνω ακέραιο μέρος της τιμής που βρήκατε. Υπολογίστε ξανά την τιμή της $\\Omega_{c}$ και βρείτε τη ίση με $0.7032$.\n",
    " \n",
    "---\n",
    "<u>**Απάντηση:**</u>"
   ]
  },
  {
   "cell_type": "markdown",
   "metadata": {
    "collapsed": false
   },
   "source": [
    "Εφόσον η περίοδος δειγματοληψίας $T_d$ δεν έχει σημασία σε αυτή τη μέθοδο, θεωρούμε ότι $T_d = 1$. Έτσι, προκύπτει ότι $\\Omega = \\omega$, οπότε οι προδιαγραφές του φίλτρου Butterworth θα είναι:\n",
    "\n",
    "$$0.89125 \\leq |H(j\\Omega)| \\leq 1, \\ \\ 0 \\leq |\\Omega| \\leq 0.2\\pi$$\n",
    "$$|H(j\\Omega)| \\leq 0.17783, \\ \\ 0.3\\pi \\leq |\\Omega| \\leq \\pi$$\n",
    "\n",
    "Λύνουμε τις εξισώσεις που υπολογίζουν τις παραμέτρους $N, \\Omega_{c}$ του Butterworth στο χώρο του Fourier και τις περνάμε στην Python παρακάτω."
   ]
  },
  {
   "cell_type": "markdown",
   "metadata": {},
   "source": [
    "---"
   ]
  },
  {
   "cell_type": "code",
   "execution_count": null,
   "id": "72ce72d4",
   "metadata": {
    "ExecuteTime": {
     "end_time": "2023-08-24T11:57:08.263864700Z",
     "start_time": "2023-08-24T11:57:08.249848200Z"
    }
   },
   "outputs": [],
   "source": [
    "# Specifications\n",
    "wp = # INSERT CODE \n",
    "ws = # INSERT CODE \n",
    "d1 = # INSERT CODE \n",
    "d2 = # INSERT CODE \n",
    "\n",
    "# Does not matter\n",
    "Td = 1\n",
    "\n",
    "# Parameter Calculation\n",
    "# Solve 2x2 system for (N, Wc), DO NOT insert specific values but only code that does the work for wp, ws, d1, d2 above\n",
    "\n",
    "# Use np.log if necessary \n",
    "N = # INSERT CODE \n",
    "\n",
    "# Use np.power if necessary\n",
    "Wc = # INSERT CODE \n",
    "\n",
    "# N must be an integer, use np.ceil\n",
    "N = np.ceil(N)\n",
    "\n",
    "# Find Wc again using new N above\n",
    "Wc = # INSERT CODE "
   ]
  },
  {
   "cell_type": "markdown",
   "id": "4339979c",
   "metadata": {},
   "source": [
    "Από τα παραπάνω, βρείτε τους πόλους $s_{k}$ του φίλτρου Butterworth, μεταφέροντας την εξίσωση του φίλτρου στο χώρο του Laplace: γνωρίζετε την εξίσωση των πόλων από τις διαλέξεις. Προγραμματίστε τους πόλους αυτούς στην Python σε επόμενο κελί κώδικα.\n",
    "\n",
    "**<u>Απάντηση:</u>**"
   ]
  },
  {
   "cell_type": "code",
   "execution_count": null,
   "id": "f098a5bd",
   "metadata": {
    "ExecuteTime": {
     "end_time": "2023-08-24T11:57:14.204709500Z",
     "start_time": "2023-08-24T11:57:14.190693100Z"
    }
   },
   "outputs": [],
   "source": [
    "# Poles\n",
    "k = [i for i in range(0, 2*int(N))]\n",
    "sk = # INSERT CODE "
   ]
  },
  {
   "cell_type": "markdown",
   "metadata": {},
   "source": [
    "Χρησιμοποιήστε την παρακάτω συνάρτηση - απλά εκτελώντας το παρακάτω κελί - για να τυπώσετε το διάγραμμα πόλων-μηδενικών, με βάση τους πόλους που βρήκατε."
   ]
  },
  {
   "cell_type": "code",
   "execution_count": null,
   "metadata": {
    "ExecuteTime": {
     "end_time": "2023-08-24T11:57:33.420953300Z",
     "start_time": "2023-08-24T11:57:33.293461400Z"
    },
    "collapsed": false
   },
   "outputs": [],
   "source": [
    "def zplane(z, p):\n",
    "    \"\"\"Plot the complex z-plane given zeros and poles.\n",
    "    \"\"\"\n",
    "    \n",
    "    # get a figure/plot\n",
    "    ax = plt.subplot(1, 1, 1)\n",
    "\n",
    "    # Add unit circle and zero axes    \n",
    "    unit_circle = patches.Circle((0,0), radius=1, fill=False, color='black', ls='--', alpha=1)\n",
    "    ax.add_patch(unit_circle)\n",
    "    axvline(0, color='0.7')\n",
    "    axhline(0, color='0.7')\n",
    "    \n",
    "    # Plot the poles and set marker properties\n",
    "    poles = plt.plot(p.real, p.imag, 'x', markersize=12, alpha=0.5)\n",
    "    \n",
    "    # Plot the zeros and set marker properties\n",
    "    zeros = plt.plot(z.real, z.imag,  'o', markersize=12, \n",
    "             color='none', alpha=0.5,\n",
    "             markeredgecolor=poles[0].get_color(), # same color as poles\n",
    "             )\n",
    "\n",
    "    # Scale axes to fit\n",
    "    r = 1.5 * np.amax(np.concatenate((abs(z), abs(p), [1])))\n",
    "    plt.axis('scaled')\n",
    "    plt.axis([-r, r, -r, r])\n",
    "\n",
    "    \"\"\"\n",
    "    If there are multiple poles or zeros at the same point, put a \n",
    "    superscript next to them.\n",
    "    \"\"\"\n",
    "    # Finding duplicates by same pixel coordinates (hacky for now):\n",
    "    poles_xy = ax.transData.transform(np.vstack(poles[0].get_data()).T)\n",
    "    zeros_xy = ax.transData.transform(np.vstack(zeros[0].get_data()).T)    \n",
    "\n",
    "    # dict keys should be ints for matching, but coords should be floats for \n",
    "    # keeping location of text accurate while zooming\n",
    "\n",
    "    d = defaultdict(int)\n",
    "    coords = defaultdict(tuple)\n",
    "    for xy in poles_xy:\n",
    "        key = tuple(np.rint(xy).astype('int'))\n",
    "        d[key] += 1\n",
    "        coords[key] = xy\n",
    "    for key, value in d.items():\n",
    "        if value > 1:\n",
    "            x, y = ax.transData.inverted().transform(coords[key])\n",
    "            plt.text(x, y, r' ${}^{' + str(value) + '}$', fontsize=13)\n",
    "\n",
    "    d = defaultdict(int)\n",
    "    coords = defaultdict(tuple)\n",
    "    for xy in zeros_xy:\n",
    "        key = tuple(np.rint(xy).astype('int'))\n",
    "        d[key] += 1\n",
    "        coords[key] = xy\n",
    "    for key, value in d.items():\n",
    "        if value > 1:\n",
    "            x, y = ax.transData.inverted().transform(coords[key])\n",
    "            plt.text(x, y, r' ${}^{' + str(value) + '}$',fontsize=13)\n",
    "\n",
    "    plt.xlabel('Real')\n",
    "    plt.ylabel('Imaginary')\n",
    "    plt.show()\n",
    "\n",
    "# Call zplane with 12 zeros and the 12 poles you have found\n",
    "zplane(np.array(np.zeros(len(sk))), np.array(sk))\n"
   ]
  },
  {
   "cell_type": "markdown",
   "id": "6278325b",
   "metadata": {},
   "source": [
    "Κρατήστε μόνο αυτούς που αντιστιχούν σε ευσταθές και αιτιατό φίλτρο: από το σύνολο των πόλων που προγραμματίσατε στην Python, επιλέξτε μόνο τους απαραίτητους, δηλ. όσους βρίσκονται στο αριστερό μιγαδικό ημιεπίπεδο του s-χώρου. Δείτε το σχήμα των διαλέξεών σας. Χρησιμοποιήστε τη συνάρτηση $\\textrm{np.real}$ επάνω στο διάνυσμα των πόλων sk που προγραμματίσατε πριν. \n",
    "\n",
    "**<u>Απάντηση</u>**"
   ]
  },
  {
   "cell_type": "code",
   "execution_count": null,
   "id": "0836292b",
   "metadata": {
    "ExecuteTime": {
     "end_time": "2023-08-24T11:57:41.697125600Z",
     "start_time": "2023-08-24T11:57:41.681599800Z"
    },
    "scrolled": true
   },
   "outputs": [],
   "source": [
    "# Get only the left-hand plane poles: sigma_k <0\n",
    "sk = # INSERT CODE "
   ]
  },
  {
   "cell_type": "markdown",
   "id": "d85019fb",
   "metadata": {},
   "source": [
    "Σχηματίστε το φίλτρο $B(s)/A(s)$ που δημιουργούν οι πόλοι που επιλέξατε: ο λόγος πολυωνύμων του $s$ θα φτιαχτεί ακριβώς όμοια με τα πολυώνυμα του $z^{-1}$ που γνωρίζετε πως κατασκευάζονται στην Python, δηλ. χρησιμοποιώντας τους συντελεστές του μόνο σε διανύσματα $B$ και $A$. Για παράδειγμα, αν θέλω να σχηματισω το πολυώνυμο δευτέρου βαθμού μεταξύ των όρων $(s-s_1)$ και $(s-s_2)$ τότε θα γράψω\n",
    "\n",
    "```python\n",
    "a = np.convolve([1, -s1], [1, -s2])\n",
    "```\n",
    "\n",
    "**<u>Απάντηση</u>**"
   ]
  },
  {
   "cell_type": "code",
   "execution_count": null,
   "id": "caf26c06",
   "metadata": {
    "ExecuteTime": {
     "end_time": "2023-08-24T11:57:46.997758600Z",
     "start_time": "2023-08-24T11:57:46.966613400Z"
    }
   },
   "outputs": [],
   "source": [
    "# Continuous time filter:\n",
    "B = Wc**N  # Numerator\n",
    "\n",
    "length = len(sk)\n",
    "A = 1\n",
    "\n",
    "# INSERT CODE \n",
    "# INSERT CODE \n"
   ]
  },
  {
   "cell_type": "markdown",
   "id": "a85e8893",
   "metadata": {},
   "source": [
    "Έχοντας πλέον το φίλτρο συνεχούς χρόνου (τους συντελεστές πολυωνύμων του $s$ αριθμητή $B$ και παρανομαστή $A$ αντίστοιχα) χρησιμοποιήστε τις εντολές **cont2discrete, freqz, group_delay** της βιβλιοθήκης scipy.signal για να μετατρέψετε το αναλογικό φίλτρο σε ψηφιακό και να δείτε την απόκριση πλάτους και την καθυστέρηση ομάδας αντίστοιχα. Εκτελέστε απλά το παρακάτω κελί.\n",
    "\n",
    "**<u>Απάντηση</u>**"
   ]
  },
  {
   "cell_type": "code",
   "execution_count": null,
   "id": "16bf0b49",
   "metadata": {
    "ExecuteTime": {
     "end_time": "2023-08-24T11:58:30.454722900Z",
     "start_time": "2023-08-24T11:58:30.189329100Z"
    }
   },
   "outputs": [],
   "source": [
    "# Impulse invariance method --> Transformation from analog [B,A] to digital [Bz, Az]\n",
    "fs = 1 # sampling frequency: does not matter\n",
    "\n",
    "dt = 1/fs\n",
    "num_d, den_d, _ = sig.cont2discrete((B, A), dt, method=\"impulse\")\n",
    "\n",
    "# Convert to numerator/denominator form - use sig.zpk2tf\n",
    "Bz, Az = sig.zpk2tf([], np.roots(den_d), num_d) \n",
    "\n",
    "# Frequency response - use function sig.freqz\n",
    "w, H = sig.freqz(b=Bz.T, a=np.real(Az), worN=512)\n",
    "\n",
    "# Group delay - use function sig.group_delay\n",
    "w, Gd = sig.group_delay((Bz.flatten(), np.real(Az).flatten()), w=512)\n",
    "\n",
    "plt.figure(figsize=(10, 10))\n",
    "plt.title(\"Exercise 1 - II filter)\")\n",
    "plt.subplot(3, 1, 1)\n",
    "plt.plot(w/np.pi, 20*np.log10(abs(H))) # Divide with pi for an easier check\n",
    "plt.grid()\n",
    "plt.ylabel(\"Magnitude (dB)\")\n",
    "plt.xlabel(\"Normalized Frequency (x $\\pi$ rad/sample)\")\n",
    "\n",
    "plt.subplot(3, 1, 2)\n",
    "plt.plot(w/np.pi, abs(H))\n",
    "plt.grid()\n",
    "plt.ylabel('Amplitude |H(z)|')\n",
    "plt.xlabel('Normalized Frequency (x $\\pi$ rad/sample)')\n",
    "\n",
    "plt.subplot(3, 1, 3)\n",
    "plt.plot(w/np.pi, Gd)\n",
    "plt.grid()\n",
    "plt.ylabel('Group Delay in samples')\n",
    "plt.xlabel('Normalized Frequency (x $\\pi$ rad/sample)')\n",
    "\n",
    "plt.show()"
   ]
  },
  {
   "cell_type": "markdown",
   "metadata": {
    "collapsed": false
   },
   "source": [
    "(β΄) Όλα αυτά που κάνετε ρητά στο παραπάνω αρχείο μπορούν να γίνουν και χωρίς όλη την παραπάνω αναλυτική διαδικασία, πιο εύκολα, με χρήση έτοιμων συναρτήσεων. Σας δίνουμε τις εντολές, απλά τρέξτε το παρακάτω κελί:"
   ]
  },
  {
   "cell_type": "code",
   "execution_count": null,
   "metadata": {
    "ExecuteTime": {
     "end_time": "2023-08-24T11:58:56.287282500Z",
     "start_time": "2023-08-24T11:58:55.951196500Z"
    },
    "collapsed": false
   },
   "outputs": [],
   "source": [
    "fs = 1 # sampling frequency: does not matter\n",
    "Wp = wp*fs\n",
    "Ws = ws*fs\n",
    "\n",
    "# Find optimum N, Wc in analog domain\n",
    "Nm, Wcm = sig.buttord(wp=Wp, ws=Ws, gpass=-20*np.log10(d1), gstop=-20*np.log10(d2), analog=True)\n",
    "\n",
    "# Constructs the filter in analog domain\n",
    "Bm, Am = sig.butter(N=Nm, Wn=Wcm, analog=True) \n",
    "\n",
    "dt = 1/fs\n",
    "# Convert to discrete using impulse invariance\n",
    "num_d, den_d, _ = sig.cont2discrete((Bm, Am), dt, method=\"impulse\")\n",
    "\n",
    "# Get poles and zeros\n",
    "Bzm, Azm = sig.zpk2tf([], np.roots(den_d), num_d) # Analog -> Digital\n",
    "\n",
    "w, Hm = sig.freqz(b=Bzm.T, a=Azm, worN=512)\n",
    "\n",
    "w, Gdm = sig.group_delay((Bzm.flatten(), Azm.flatten()), w=512)\n",
    "\n",
    "plt.figure(figsize=(10, 10))\n",
    "plt.title('Exercise 1 - II')\n",
    "plt.subplot(3, 1, 1)\n",
    "plt.plot(w/np.pi, 20*np.log10(abs(Hm))) # Divide with pi for easier check\n",
    "plt.grid()\n",
    "plt.ylabel(\"Magnitude (dB)\")\n",
    "plt.xlabel(\"Normalized Frequency (x $\\pi$ rad/sample)\")\n",
    "\n",
    "plt.subplot(3, 1, 2)\n",
    "plt.plot(w/np.pi, abs(Hm))\n",
    "plt.grid()\n",
    "plt.ylabel('Amplitude |H(exp(jω))|')\n",
    "plt.xlabel('Normalized Frequency (x $\\pi$ rad/sample)')\n",
    "\n",
    "plt.subplot(3, 1, 3)\n",
    "plt.plot(w/np.pi, Gdm)\n",
    "plt.grid()\n",
    "plt.ylabel('Group Delay in samples')\n",
    "plt.xlabel('Normalized Frequency (x $\\pi$ rad/sample)')\n",
    "\n",
    "plt.show()"
   ]
  },
  {
   "cell_type": "markdown",
   "metadata": {
    "collapsed": false
   },
   "source": [
    "Περάστε το σήµα ϕωνής που σας δίνεται (speech.wav) µέσα από το παραπάνω φίλτρο (εντολή sig.lfilter).\n",
    "\n",
    "**<u>Απάντηση</u>**\n"
   ]
  },
  {
   "cell_type": "code",
   "execution_count": null,
   "metadata": {
    "ExecuteTime": {
     "end_time": "2023-08-24T11:59:51.822658700Z",
     "start_time": "2023-08-24T11:59:51.798587400Z"
    },
    "collapsed": false
   },
   "outputs": [],
   "source": [
    "filename = 'speech.wav'\n",
    "fs, s = wavfile.read('./' + filename)        # διαβάζουμε το συνοδευτικό wav αρχείο\n",
    "s = s / (2**15)                              # κανονικοποίηση\n",
    "Audio(s.T, rate=fs)                          # ακούμε! :)"
   ]
  },
  {
   "cell_type": "code",
   "execution_count": null,
   "metadata": {},
   "outputs": [],
   "source": [
    "y = sig.lfilter(np.squeeze(Bzm), Azm, s)                # our filter"
   ]
  },
  {
   "cell_type": "markdown",
   "metadata": {},
   "source": [
    "Ας το ακούσουμε:"
   ]
  },
  {
   "cell_type": "code",
   "execution_count": null,
   "metadata": {},
   "outputs": [],
   "source": [
    "Audio(y.T, rate=fs)                          # ακούμε! :)"
   ]
  },
  {
   "cell_type": "markdown",
   "metadata": {},
   "source": [
    "## II. <u>Bilinear Transform-Based Butterworth Filter</u>\n",
    "Η τεχνική του Bilinear Transformation (BT) αποφεύγει το εγγενές πρόβλημα του aliasing που υπάρχει στην μέθοδο της Impulse Invariance. Η τεχνική αυτή αντιστοιχεί τη συχνότητα $\\infty \\leq \\Omega \\leq \\infty$ του συνεχούς χρόνου στη συχνότητα $-\\pi \\leq \\omega \\leq \\pi$ του διακριτού χρόνου, μέσω του μη-γραμμικού μετασχηματισμού\n",
    "\n",
    "$$s = \\frac{2}{T_{d}}\\Big(\\frac{1 - z^{-1}}{1 + z^{-1}}\\Big) \\ \\ \\tag{11}$$\n",
    "δηλ.\n",
    "$$ H(z) = H_{c}\\Big(\\frac{2}{T_{d}}\\Big(\\frac{1-z^{-1}}{1+z^{-1}}\\Big)\\Big) \\ \\ \\tag{12}$$\n",
    "\n",
    "Οι παραπάνω σχέσεις οδηγούν (δείτε τις διαλέξεις ή το βιβλίο σας) στις σχέσεις\n",
    "$$\\Omega = \\frac{2}{T_{d}}\\tan (\\omega / 2) \\ \\ \\tag{13}$$\n",
    "$$\\omega = 2 \\tan^{-1} (\\Omega T_{d}/2) \\ \\ \\tag{14}$$\n",
    "---"
   ]
  },
  {
   "cell_type": "markdown",
   "metadata": {},
   "source": [
    "\n",
    "(α') Χρησιμοποιώντας Python, υλοποιήστε με αναλυτικό τρόπο - υλοποιώντας πρώτα το αντίστοιχο φίλτρο στις διαλέξεις. Προς διευκόλυνσή σας, θυμίζεται ότι το φίλτρο έχεις τις προδιαγραφές\n",
    "$$0.89125 \\leq |H(e^{j\\omega})| \\leq 1,\\ \\ 0 \\leq |\\omega| \\leq 0.2 \\pi \\ \\ \\tag{15}$$\n",
    "$$|H(e^{j\\omega})| \\leq 0.17783, \\ \\ 0.3\\pi \\leq |\\omega| \\leq \\pi \\ \\ \\tag{16}$$\n",
    "\n",
    "Εφ'οσον η περίοδος δειγματοληψίας $T_{d}$ δεν έχει σημασία και στη μέθοδο αυτή, θεωρήστε ότι $T_{d} = 1$. Με αυτόν τον τρόπο, η \"διακριτή\" συχνότητα $\\omega$ αντιστοιχεί στη \"συνεχή\" συχνότητα $\\Omega$ με τις σχέσεις\n",
    "\n",
    "$$\\Omega = 2 \\tan (\\omega /2) \\ \\ \\tag{17}$$\n",
    "$$\\omega = 2 \\tan^{-1} (\\Omega / 2) \\ \\ \\tag{18}$$\n",
    "\n",
    "Άρα οι παραπάνω προδιαγραφές μετατρέπονται ως\n",
    "$$0.89125 \\leq |H(e^{j\\omega})| \\leq 1, \\ \\ 0 \\leq \\Omega \\leq \\frac{2}{T_{d}}\\tan\\left(\\frac{0.2\\pi}{2}\\right) \\ \\ \\tag{19}$$\n",
    "$$|H(j\\Omega)| \\leq 0.17783, \\ \\ \\frac{2}{T_{d}}\\tan\\left(\\frac{0.3\\pi}{2}\\right) \\leq |\\Omega| \\leq \\infty \\ \\ \\tag{20}$$\n",
    "\n",
    "Αυτές είναι λοιπόν οι προδιαγραφές του φίλτρου Butterworth συνεχούς χρόνου, το οποίο πρέπει να υλοποιήσετε ρητά, και μετά να το μετατρέψετε σε διακριτού χρόνου.\n",
    "\n",
    "Εν συντομία, λύστε στο χαρτί σας τις εξισώσεις που υπολογίζουν τις παραμέτρους $N$, $\\Omega_{c}$ του αναλογικού φίλτρου στο χώρο του Fourier: αυτές σας δόθηκαν στο μάθημα, και -ξανά- δεδομένου ότι το Butterworth φίλτρο είναι της μορφής\n",
    "$$|H_{c}(\\Omega)|^{2} = \\frac{1}{1+ \\Big(\\frac{\\Omega}{\\Omega_{c}}\\Big)^{2N}} \\ \\ \\tag{21}$$\n",
    "\n",
    "Αυτές οι εξισώσεις είναι\n",
    "$$1 + \\Big(2 \\frac{\\tan(0.1 \\pi)}{\\Omega_{c}}\\Big)^{2N} = \\Big(\\frac{1}{0.89125}\\Big)^{2} \\ \\ \\tag{22}$$\n",
    "$$1 + \\Big(2 \\frac{\\tan(0.15\\pi)}{\\Omega_{c}}\\Big)^{2N} = \\Big(\\frac{1}{0.17783}\\Big)^{2} \\ \\ \\tag{23}$$\n",
    "και προέρχονται από την ισότητα στις προδιαγραφές $(19,20)$.\n",
    "\n",
    "- Λύστε αναλυτικά το παραπάνω σύστημα και βρείτε ότι $N = 5.305$. Χρησιμοποιήστε την Python ως αριθμομηχανή ή μια πραγματική αριθμομηχανή. Μεταφέρετε τις λύσεις των εξισώσεων - **όχι τους τελικούς αριθμούς αλλά τις τελικές εξισώσεις, έτσι ώστε αν κάποιος αλλάξει τις τιμές $0.2$, $0.3$ ή $0.89125$, $0.17783$, ο κωδικάς σας να εξακολουθεί να λειτουργεί!!** - στο κελί κώδικα λίγο παρακάτω.\n",
    "\n",
    "- Το $N$ πρέπει να είναι ακέραιος, οπότε θέστε το $N$ ως το άνω ακέραιο μέρος της τιμής που βρήκατε. Υπολογίστε ξανά την τιμή της $\\Omega_{c}$, για αυτή την νέα τιμή του $N$, και δείξτε ότι αυτή είναι $\\Omega_{c} = 0.766$.\n",
    "\n",
    "<u>**Απάντηση**</u>\n",
    "\n",
    "Λύνουμε στο χαρτί τις εξισώσεις και τις περνάμε στην Python παρακάτω."
   ]
  },
  {
   "cell_type": "code",
   "execution_count": null,
   "metadata": {},
   "outputs": [],
   "source": [
    "# specifications\n",
    "wp = # INSERT CODE \n",
    "ws = # INSERT CODE \n",
    "d1 = # INSERT CODE \n",
    "d2 = # INSERT CODE \n",
    "\n",
    "Td = 1\n",
    "Wp = # INSERT CODE \n",
    "Ws = # INSERT CODE \n",
    "\n",
    "# parameter calculation\n",
    "# solve 2x2 system for (N,Wc)\n",
    "# DO NOT insert specific values but only code that does the work for wp, ws, d1, d2\n",
    "\n",
    "# Use np.log, np.tan if necessary\n",
    "N = # INSERT CODE \n",
    "\n",
    "# Wc, use np.tan, np.power if necessary\n",
    "Wc = # INSERT CODE \n",
    "\n",
    "# N must be an integer\n",
    "N = np.ceil(N)\n",
    "\n",
    "# Wc again, with new N\n",
    "Wc = # INSERT CODE "
   ]
  },
  {
   "cell_type": "markdown",
   "metadata": {},
   "source": [
    "Από τα παραπάνω, βρείτε τους πόλους $s_{k}$ του φίλτρου Butterworth, μεταφέροντας την εξίσωσή του φίλτρου στον χώρο Laplace: γνωρίζετε την εξίσωση των πόλων από τις διαλέξεις. Οπότε απλά προγραμματίστε τους πόλους αυτούς στην Python.\n",
    "\n",
    "<u>**Απάντηση**</u>"
   ]
  },
  {
   "cell_type": "code",
   "execution_count": null,
   "metadata": {},
   "outputs": [],
   "source": [
    "# poles\n",
    "k = [i for i in range(0, 2*int(N))]\n",
    "sk = # INSERT CODE "
   ]
  },
  {
   "cell_type": "markdown",
   "metadata": {},
   "source": [
    "Κρατήστε μόνο αυτούς που αντιστοιχούν σε ευσταθές και αιτιατό φίλτρο: από το σύνολο των πόλων που προγραμματίσατε στην Python, επιλέξτε μόνο τους απαραίτητους, δηλ. όσους αριστερό μιγαδικό ημιεπίπεδο του s-χώρου. Δείτε το σχήμα των διαλέξεών σας. Χρησιμοποιήστε τη συνάρτηση $\\textrm{np.real}$ επάνω στο διάνυσμα των πόλων sk που προγραμματίσατε πρίν.\n",
    "\n",
    "<u>**Απάντηση**</u>"
   ]
  },
  {
   "cell_type": "code",
   "execution_count": null,
   "metadata": {},
   "outputs": [],
   "source": [
    "# get only the upper LHP poles: sigma_k <0 & W_k >0\n",
    "sk = # INSERT CODE "
   ]
  },
  {
   "cell_type": "markdown",
   "metadata": {},
   "source": [
    "Σχηματίστε το φίλτρο $B(s)/A(s)$ που δημιουργούν οι πόλοι που επιλέξατε: ο λόγος πολυωνύμων του $s$ θα φτιαχτεί ακριβώς όμοια με τα πολυώνυμα του $z^{-1}$, όπως δείξαμε στην προηγούμενη μέθοδο, δηλ. χρησιμοποιώντας τους συντελεστές του μόνο σε διανύσματα $B$ και $A$.\n",
    "\n",
    "**<u>Απάντηση</u>**"
   ]
  },
  {
   "cell_type": "code",
   "execution_count": null,
   "metadata": {},
   "outputs": [],
   "source": [
    "# Continuous time filter:\n",
    "B = Wc**N  # Numerator\n",
    "\n",
    "length = len(sk)\n",
    "A = 1\n",
    "\n",
    "# INSERT CODE \n",
    "# INSERT CODE "
   ]
  },
  {
   "cell_type": "markdown",
   "metadata": {},
   "source": [
    "Έχοντας πλέον το φίλτρο συνεχούς χρόνου (τους συντελεστές πολυωνύμων του $s$ αριθμητή $B$ και παρανομαστή $A$ αντίστοιχα) χρησιμοποιήστε τις εντολές **bilinear, freqz, group_pdelay** για να μετατρέψετε το αναλογικό φίλτρο σε ψηφιακό και να δείτε την απόκριση πλάτους και την καθυστέρηση ομάδας αντίστοιχα. Τρέξτε απλά το παρακάτω κελί.\n",
    "\n",
    "**<u>Απάντηση</u>**"
   ]
  },
  {
   "cell_type": "code",
   "execution_count": null,
   "metadata": {},
   "outputs": [],
   "source": [
    "fs = 1 # sampling frequency in Hz: does not matter\n",
    "Bz, Az = sig.bilinear(b=B, a=A, fs=fs)\n",
    "\n",
    "#Frequency response - use function sig.freqz\n",
    "w, H = sig.freqz(b=Bz.T, a=Az, worN=512)\n",
    "\n",
    "# Group delay - use function sig.group_delay\n",
    "w, Gd = sig.group_delay((Bz, Az), w=512)\n",
    "\n",
    "plt.figure(figsize=(10, 10))\n",
    "plt.title(\"Exercise 1 - BT\")\n",
    "plt.subplot(3, 1, 1)\n",
    "plt.plot(w/np.pi, 20*np.log10(abs(H))) # Divide with pi for easier check\n",
    "plt.grid()\n",
    "plt.ylabel(\"Magnitude (dB)\")\n",
    "plt.xlabel(\"Normalized Frequency (x $\\pi$ rad/sample)\")\n",
    "\n",
    "plt.subplot(3, 1, 2)\n",
    "plt.plot(w/np.pi, abs(H))\n",
    "plt.grid()\n",
    "plt.ylabel('Amplitude |H(exp(jω))|')\n",
    "plt.xlabel('Normalized Frequency (x $\\pi$ rad/sample)')\n",
    "\n",
    "plt.subplot(3, 1, 3)\n",
    "plt.plot(w/np.pi, Gd)\n",
    "plt.grid()\n",
    "plt.ylabel('Group Delay in samples')\n",
    "plt.xlabel('Normalized Frequency (x $\\pi$ rad/sample)')\n",
    "\n",
    "plt.show()"
   ]
  },
  {
   "cell_type": "markdown",
   "metadata": {},
   "source": [
    "(β') Όλα τα παραπάνω μπορούν να γίνουν και χωρίς όλη την παραπάνω διαδικασία, πιο εύκολα, με χρήση έτοιμων συναρτήσεων. Σας δίνουμε τις εντολές:"
   ]
  },
  {
   "cell_type": "code",
   "execution_count": null,
   "metadata": {},
   "outputs": [],
   "source": [
    "fs = 1 # sampling frequency in Hz: does not matter\n",
    "Wp = 2*fs*np.tan(wp/2)\n",
    "Ws = 2*fs*np.tan(ws/2)\n",
    "\n",
    "# Find optimum N, Wc\n",
    "Nm, Wcm = sig.buttord(wp=Wp, ws=Ws, gpass=-20*np.log10(d1), gstop=-20*np.log10(d2), analog=True)\n",
    "\n",
    "Bm, Am = sig.butter(N=Nm, Wn=Wcm, analog=True) #Constructs the filter\n",
    "Bzm, Azm = sig.bilinear(b=Bm, a=Am, fs=fs) #Analog -> Digital\n",
    "w, Hm = sig.freqz(b=Bzm, a=Azm, worN=512)\n",
    "\n",
    "w, Gdm = sig.group_delay((Bzm, Azm), w=512)\n",
    "\n",
    "plt.figure(figsize=(10, 10))\n",
    "plt.title(\"Exercise 1 - BT\")\n",
    "plt.subplot(3, 1, 1)\n",
    "plt.plot(w/np.pi, 20*np.log10(abs(H))) # Divide with pi for easier check\n",
    "plt.grid()\n",
    "plt.ylabel(\"Magnitude (dB)\")\n",
    "plt.xlabel(\"Normalized Frequency (x $\\pi$ rad/sample)\")\n",
    "\n",
    "plt.subplot(3, 1, 2)\n",
    "plt.plot(w/np.pi, abs(H))\n",
    "plt.grid()\n",
    "plt.ylabel('Amplitude |H(exp(jω))|')\n",
    "plt.xlabel('Normalized Frequency (x $\\pi$ rad/sample)')\n",
    "\n",
    "plt.subplot(3, 1, 3)\n",
    "plt.plot(w/np.pi, Gd)\n",
    "plt.grid()\n",
    "plt.ylabel('Group Delay in samples')\n",
    "plt.xlabel('Normalized Frequency (x $\\pi$ rad/sample)')\n",
    "\n",
    "plt.show()"
   ]
  },
  {
   "cell_type": "markdown",
   "metadata": {},
   "source": [
    "Περάστε το σήµα ϕωνής που σας δίνεται (speech.wav) µέσα από το παραπάνω ϕίλτρο (εντολή sig.lfilter).\n",
    "\n",
    "<u>**Απάντηση**</u>\n"
   ]
  },
  {
   "cell_type": "code",
   "execution_count": null,
   "metadata": {},
   "outputs": [],
   "source": [
    "filename = 'speech.wav'\n",
    "fs, s = wavfile.read('./' + filename)        # διαβάζουμε το συνοδευτικό wav αρχείο\n",
    "s = s / (2**15)                              # κανονικοποίηση\n",
    "Audio(s.T, rate=fs)                          # ακούμε! :)"
   ]
  },
  {
   "cell_type": "markdown",
   "metadata": {},
   "source": [
    "Φιλτράρετέ το!"
   ]
  },
  {
   "cell_type": "code",
   "execution_count": null,
   "metadata": {},
   "outputs": [],
   "source": [
    "y = sig.lfilter(Bzm, Azm, s)                 # our filter"
   ]
  },
  {
   "cell_type": "markdown",
   "metadata": {},
   "source": [
    "Ας το ακούσουμε!"
   ]
  },
  {
   "cell_type": "code",
   "execution_count": null,
   "metadata": {},
   "outputs": [],
   "source": [
    "Audio(y.T, rate=fs)                          # ακούμε! :)"
   ]
  },
  {
   "cell_type": "markdown",
   "metadata": {},
   "source": [
    "---\n",
    "---"
   ]
  },
  {
   "cell_type": "markdown",
   "metadata": {},
   "source": [
    "# Άσκηση 2 - Σχεδίαση FIR Φίλτρων\n",
    "\n",
    "Χρησιμοποιώντας Python, υλοποιήστε το παράδειγμα σχεδίασης ενός χαμηλοπερατού - με συχνότητα αποκοπής $\\omega_{c} = \\pi /2$ - FIR φίλτρου γραμμικής φάσης με χρήση παραθύρου Kaiser, που είδαμε στις διαλέξεις. Όπως θυμάστε, η φιλοσοφία της σχεδίασης έγκειται στην παραθυροποίηση της κρουστικής απόκρισης ενός ιδανικού φίλτρου (η οποία είναι άπειρης διάρκειας και μη αιτιατή).\n",
    "\n",
    "\n",
    "Πιο συγκεκριμένα, οι προδιαγραφές του φίλτρου σας είναι\n",
    "\n",
    "$$\\omega_{p} = 0.4\\pi \\ \\ \\tag{24}$$\n",
    "$$\\omega_{s} = 0.6\\pi \\ \\ \\tag{25}$$\n",
    "$$\\delta = 0.001 \\ \\ \\tag{26}$$\n",
    "\n",
    "Γράψτε τον κώδικα που τις υλοποιεί παρακάτω.\n",
    "\n",
    "<u>**Απάντηση**</u>"
   ]
  },
  {
   "cell_type": "code",
   "execution_count": null,
   "metadata": {},
   "outputs": [],
   "source": [
    "wp = # INSERT CODE \n",
    "ws = # INSERT CODE \n",
    "d = # INSERT CODE "
   ]
  },
  {
   "cell_type": "markdown",
   "metadata": {},
   "source": [
    "Η συχνότητα αποκοπής $\\omega_{c}$ είναι\n",
    "    $$\\omega_{c} = \\frac{\\omega_{p} + \\omega_{s}}{2} \\tag{27}$$\n",
    "Προγραματίστε το στην Python.\n",
    "\n",
    "<u>**Απάντηση**</u>"
   ]
  },
  {
   "cell_type": "code",
   "execution_count": null,
   "metadata": {},
   "outputs": [],
   "source": [
    "Wc = # INSERT CODE "
   ]
  },
  {
   "cell_type": "markdown",
   "metadata": {},
   "source": [
    "Οι παράμετροι του παραθύρου Kaiser δίνονται ως:\n",
    "$$\\Delta \\omega = \\omega_{s} - \\omega_{p} \\ \\ \\tag{28}$$\n",
    "$$\\Alpha = -20 \\log_{10} \\delta \\ \\ \\tag{29}$$\n",
    "\n",
    "$\\begin{align}\n",
    "\\beta  = \\left\\{\n",
    "            \\begin{array}{lr}\n",
    "                    0.1102(\\Alpha - 8.7), & \\Alpha > 50 \\\\\n",
    "                    0.5842(\\Alpha - 21)^{0.4} + 0.07886(\\Alpha - 21), & 21 \\leq \\Alpha \\leq 50 \\\\\n",
    "                    0.0, & \\Alpha < 21\n",
    "            \\end{array} \\tag{30}\n",
    "         \\right.\n",
    "\\end{align}$\n",
    "\n",
    "και η παράμετρος $M$ του παραθύρου (θέση τελευταίου μη μηδενικού δείγματος, δηλ. διάρκεια φίλτρου $M+1$) πρέπει να ικανοποιεί τη σχέση\n",
    "\n",
    "$$M = \\frac{A - 8}{2.285 \\Delta \\omega} \\ \\ \\tag{31}$$\n",
    "\n",
    "ενώ η καθυστέρηση θα είναι \n",
    "\n",
    "$$\\alpha = \\frac{M}{2} \\ \\ \\tag{32}$$\n",
    "\n",
    "Προγραμματίστε τις παραπάνω εξισώσεις στην Python, με την ίδια φιλοσοφία με τις προηγούμενες υλοποιήσεις φίλτρων. Επιβεβαιώστε ότι για τις προδιαγραφές που σας δίνονται οι τιμές που λαμβάνετε είναι\n",
    "$$\\Delta \\omega = 0.2 \\pi , \\Alpha = 60, \\beta = 5.653, M = 36.3 \\rightarrow 37, \\alpha = 18.5 \\ \\ \\tag{33}$$\n",
    "\n",
    "<u>**Απάντηση**</u>\n"
   ]
  },
  {
   "cell_type": "code",
   "execution_count": null,
   "metadata": {},
   "outputs": [],
   "source": [
    "Dw = # INSERT CODE \n",
    "\n",
    "A = # INSERT CODE \n",
    "\n",
    "if A > 50:\n",
    "    b = # INSERT CODE \n",
    "elif A >= 21:\n",
    "    b = # INSERT CODE \n",
    "else:\n",
    "    b = # INSERT CODE \n",
    "\n",
    "M = # INSERT CODE \n",
    "M = # INSERT CODE (M must be integer)\n",
    "\n",
    "a = # INSERT CODE \n",
    "\n",
    "print(f\"Δω = {Dw/2}=pi, A = {A}, beta={b}, M={M}, a={a}\")\n",
    "# Should be : Δω = 0.3141592653589793=pi, A = 60.0, beta=5.65326, M=37.0, a=18.5"
   ]
  },
  {
   "cell_type": "markdown",
   "metadata": {},
   "source": [
    "Το γινόμενο του παραθύρου Kaiser με την ιδανική κρουστική απόκριση του χαμηλοπερατού φίλτρου γραμμικής φάσης (δηλ. η επιθυμητή κρουστική απόκριση) στο πεδίο του χρόνου δίνεται ώς\n",
    "\n",
    "$\\begin{align}\n",
    "h[n] = \\left\\{\n",
    "            \\begin{array}{lr}\n",
    "                \\displaystyle \\frac{\\sin (\\omega_{c}(n - \\alpha))}{\\pi(n - \\alpha)} \\frac{\\Iota_{0}[ \\beta (1 - [(n-\\alpha)/ \\alpha]^{2})^{1/2}]}{\\Iota_{0}(\\beta)}, & 0 \\leq n \\leq M \\\\\n",
    "                0 , & αλλού\n",
    "            \\end{array} \\tag{34}\n",
    "         \\right.\n",
    "\\end{align}$\n",
    "\n",
    "Πώς προέκυψε το παραπάνω? Από το γινόμενο\n",
    "\n",
    "$$ h[n] = w_{kaiser}[n]h_d[n] \\tag{35}$$\n",
    "\n",
    "με $$h_d[n] = \\frac{\\sin\\left(\\omega_c\\left(n-\\alpha\\right)\\right)}{\\pi \\left(n-\\alpha\\right)} \\tag{36}$$\n",
    "\n",
    "η κρουστική απόκριση ενός ιδανικού χαμηλοπερατού φίλτρου γραμμικής φάσης\n",
    "\n",
    "$$H_d(e^{j\\omega}) = \\left\\{\n",
    "    \\begin{array}{ll}\n",
    "        e^{-j\\omega \\alpha}, & |\\omega| < \\omega_c \\\\\n",
    "        0, & \\text{ αλλού}\n",
    "\\end{array}\\right. \\tag{37}$$\n",
    "\n",
    "και $$w_{kaiser}[n] = \\frac{\\Iota_{0}[ \\beta (1 - [(n-\\alpha)/ \\alpha]^{2})^{1/2}]}{\\Iota_{0}(\\beta)}, \\: \\: 0 \\leq n \\leq M \\tag{38}$$\n",
    "\n",
    "το παράθυρο Kaiser που σχεδιάσαμε!\n",
    "\n",
    "Χρησιμοποιήστε τη συνάρτηση $\\textrm{sp.iv}$ για να παράγετε την τροποποιημένη συνάρτηση Bessel μηδενικού βαθμού και πρώτου είδους $\\Iota_{0}(\\centerdot)$, με ορίσματα τα $\\alpha, \\beta$ που βρήκατε παραπάνω.\n",
    "\n",
    "<u>**Απάντηση**</u>\n"
   ]
  },
  {
   "cell_type": "code",
   "execution_count": null,
   "metadata": {},
   "outputs": [],
   "source": [
    "# Implement numerator and denominator of w[n]\n",
    "n = [i for i in range(0, int(M)+1)]\n",
    "I0_num = # INSERT CODE \n",
    "I0_den = # INSERT CODE \n",
    "w = I0_num/I0_den\n",
    "\n",
    "# Ideal impulse response\n",
    "hd = ((np.sin(Wc*(n-a)))/(np.pi*(n-a)))\n",
    "\n",
    "# Kaiser-windowed hd[n] = h[n]\n",
    "h = # INSERT CODE "
   ]
  },
  {
   "cell_type": "markdown",
   "metadata": {},
   "source": [
    "Με βάση τα παραπάνω:\n",
    "1. Τρέξτε το παρακάτω κελί για να δείτε την απόκριση πλάτους και την καθυστέρηση ομάδας, αντίστοιχα.\n",
    "\n",
    "**Τι τύπου φίλτρο γραμμικής φάσης φτιάξατε; (I, II, III, IV ?)**\n",
    "\n",
    "<u>**Απάντηση**</u>"
   ]
  },
  {
   "cell_type": "code",
   "execution_count": null,
   "metadata": {},
   "outputs": [],
   "source": [
    "Az = 1\n",
    "Bz = h\n",
    "\n",
    "w, H = sig.freqz(b=Bz.T, a=Az, worN=512)\n",
    "w, Gd = sig.group_delay((Bz.flatten(), Az), w=512)\n",
    "\n",
    "plt.figure(figsize=(12, 10))\n",
    "plt.subplot(3, 1, 1)\n",
    "plt.title(\"Filtering with Kaiser window\")\n",
    "plt.plot(w/np.pi, 20*np.log10(abs(H))) # Divide with pi for easier check\n",
    "plt.grid()\n",
    "plt.ylabel(\"Magnitude (dB)\")\n",
    "plt.xlabel(\"Normalized Frequency (x $\\pi$ rad/sample)\")\n",
    "\n",
    "plt.subplot(3, 1, 2)\n",
    "plt.plot(w/np.pi, abs(H))\n",
    "plt.grid()\n",
    "plt.ylabel('Magnitude |H(exp(jω))|')\n",
    "plt.xlabel('Normalized Frequency (x $\\pi$ rad/sample)')\n",
    "\n",
    "plt.subplot(3, 1, 3)\n",
    "plt.plot(w/np.pi, Gd)\n",
    "plt.grid()\n",
    "plt.ylabel('Group Delay in samples')\n",
    "plt.xlabel('Normalized Frequency (x $\\pi$ rad/sample)')\n",
    "plt.ylim(18, 20)\n",
    "\n",
    "plt.show()\n",
    "\n",
    "plt.figure(figsize=(12, 6))\n",
    "plt.stem(n, hd.reshape(-1))\n",
    "plt.grid(True)\n",
    "plt.title(\"Ideal hd[n]\")\n",
    "plt.xlabel('Samples')\n",
    "plt.ylabel('Amplitude')\n",
    "plt.show()\n",
    "\n",
    "\n",
    "plt.figure(figsize=(12, 6))\n",
    "plt.stem(n, h.reshape(-1))\n",
    "plt.grid(True)\n",
    "plt.title(\"Ideal * Kaiser = hd[n] * w[n]\")\n",
    "plt.xlabel('Samples')\n",
    "plt.ylabel('Amplitude')\n",
    "plt.show()"
   ]
  },
  {
   "cell_type": "markdown",
   "metadata": {},
   "source": [
    "**Απάντηση για το είδος του φίλτρου:**\n",
    "\n",
    "Παρατηρούμε ότι ...\n",
    "\n",
    "\n"
   ]
  },
  {
   "cell_type": "markdown",
   "metadata": {},
   "source": [
    "2. Χρησιµοποιήστε τώρα ένα απλό τετραγωνικό παράθυρο (διάρκειας $M + 1$, δηλ. η κρουστική του απόκριση αποτελείται από $M + 1$ άσσους) αντί για Kaiser παράθυρο, και σχεδιάστε την απόκριση πλάτους και την καθυστέρηση οµάδας του ϕίλτρου γραµµικής ϕάσης που λαµβάνετε. \n",
    "\n",
    "**Συγκρίνετε την απόκριση πλάτους του ϕίλτρου που παίρνετε τώρα σε σχέση µε αυτό που πήρατε µε το παράθυρο Kaiser**.\n",
    "\n",
    "<u>**Απάντηση**</u>"
   ]
  },
  {
   "cell_type": "code",
   "execution_count": null,
   "metadata": {},
   "outputs": [],
   "source": [
    "w_rect = np.ones((1, int(M)+1))\n",
    "hd = (np.sin(Wc*(n-a)))/(np.pi * (n-a))\n",
    "\n",
    "A = 1\n",
    "B = hd\n",
    "\n",
    "w, H = sig.freqz(b=B, a=A, worN=512)\n",
    "w, Gd = sig.group_delay((B, A), w=512)\n",
    "\n",
    "plt.figure(figsize=(12, 10))\n",
    "plt.subplot(3, 1, 1)\n",
    "plt.title(\"Filtering with rectangular window\")\n",
    "plt.plot(w/np.pi, 20*np.log10(abs(H))) # Divide with pi for easier check\n",
    "plt.grid()\n",
    "plt.ylabel(\"Magnitude (dB)\")\n",
    "plt.xlabel(\"Normalized Frequency (x $\\pi$ rad/sample)\")\n",
    "\n",
    "plt.subplot(3, 1, 2)\n",
    "plt.plot(w/np.pi, abs(H))\n",
    "plt.grid()\n",
    "plt.ylabel('Magnitude |H(exp(jω))|')\n",
    "plt.xlabel('Normalized Frequency (x $\\pi$ rad/sample)')\n",
    "\n",
    "plt.subplot(3, 1, 3)\n",
    "plt.plot(w/np.pi, Gd)\n",
    "plt.grid()\n",
    "plt.ylabel('Group Delay in samples')\n",
    "plt.xlabel('Normalized Frequency (x $\\pi$ rad/sample)')\n",
    "plt.ylim(18, 20)\n",
    "\n",
    "plt.show()\n",
    "\n",
    "\n",
    "plt.figure(figsize=(12, 6))\n",
    "plt.stem(n, hd.reshape(-1))\n",
    "plt.grid(True)\n",
    "plt.title(\"Ideal Impulse Response = Rectangularly windowed impulse response with M+1 samples\")\n",
    "plt.xlabel('Samples')\n",
    "plt.ylabel('Amplitude')\n",
    "plt.show()\n"
   ]
  },
  {
   "cell_type": "markdown",
   "metadata": {},
   "source": [
    "Συγκρίνοντας την απόκριση πλάτους των παραπάνω φίλτρων, παρατηρούμε τα εξής:\n",
    "* η απόκριση πλάτους του φίλτρου με παράθυρο Kaiser ...\n",
    "\n",
    "* Το εύρος του κεντρικού λοβού για το φίλτρο με παράθυρο Kaiser είναι ... ενώ για το τετραγωνικό παράθυρο είναι ... \n",
    "\n",
    "Έτσι, το φίλτρο με τετραγωνικό παράθυρο θα έχει ...\n",
    "* Το πλάτος των πλευρικών λοβών για το φίλτρο με παράθυρο Kaiser είναι ... ενώ για το τετραγωνικό παράθυρο είναι ... \n",
    "\n",
    "Έτσι, το φίλτρο με παράθυρο Kaiser θα έχει ..."
   ]
  },
  {
   "cell_type": "markdown",
   "metadata": {},
   "source": [
    "3. Περάστε το σήµα ϕωνής που σας δίνεται (speech.wav) µέσα από το παραπάνω χαµηλοπερατό ϕίλτρο µε παράθυρο Kaiser (εντολή sig.lfilter) που ϕτιάξατε.\n",
    "\n",
    "<u>**Απάντηση**</u>"
   ]
  },
  {
   "cell_type": "code",
   "execution_count": null,
   "metadata": {},
   "outputs": [],
   "source": [
    "filename = 'speech.wav'\n",
    "fs, s = wavfile.read('./' + filename)        # διαβάζουμε το συνοδευτικό wav αρχείο\n",
    "s = s / (2**15)                              # κανονικοποίηση\n",
    "Audio(s.T, rate=fs)                          # ακούμε! :)"
   ]
  },
  {
   "cell_type": "markdown",
   "metadata": {},
   "source": [
    "Φιλτράρουμε:"
   ]
  },
  {
   "cell_type": "code",
   "execution_count": null,
   "metadata": {},
   "outputs": [],
   "source": [
    "y = sig.lfilter(np.squeeze(Bz), Az, s)     # our filter"
   ]
  },
  {
   "cell_type": "markdown",
   "metadata": {},
   "source": [
    "Ακούμε! :)"
   ]
  },
  {
   "cell_type": "code",
   "execution_count": null,
   "metadata": {},
   "outputs": [],
   "source": [
    "Audio(y.T, rate=fs)                          # ακούμε! :)"
   ]
  },
  {
   "cell_type": "markdown",
   "metadata": {},
   "source": [
    "---\n",
    "---"
   ]
  },
  {
   "cell_type": "markdown",
   "metadata": {},
   "source": [
    "### Για την παράδοση της άσκησης, παραδώστε συμπληρωμένο αυτό το *Python* αρχείο, με εκτελεσμένο κάθε κελί κώδικα, μετονομασμένο σε\n",
    "\n",
    "### <center> Lab4_AM.ipynb\n",
    "\n",
    "### Η παράδοση γίνεται μέσω e-mail στα\n",
    "<br>\n",
    "\n",
    "### <center> csd4390@csd.uoc.gr\n",
    "\n",
    "### <center> και\n",
    "\n",
    "### <center> csd4262@csd.uoc.gr\n",
    "\n",
    "### Σε περίπτωση που έχετε ομάδα 2 ατόμων, το όνομα του αρχείο θα πρέπει να είναι \n",
    "\n",
    "### <center> Lab4_AM1_ΑΜ2.ipynb\n",
    "\n",
    "### και πρέπει να αποσταλεί ΜΟΝΟ από ένα (οποιοδήποτε) μέλος της ομάδας.\n",
    "\n",
    "## <center> Ανάθεση: 8/12/2023\n",
    "## <center> Προθεσμία: 22/12/2023, 23:59:59"
   ]
  }
 ],
 "metadata": {
  "kernelspec": {
   "display_name": "Python 3 (ipykernel)",
   "language": "python",
   "name": "python3"
  },
  "language_info": {
   "codemirror_mode": {
    "name": "ipython",
    "version": 3
   },
   "file_extension": ".py",
   "mimetype": "text/x-python",
   "name": "python",
   "nbconvert_exporter": "python",
   "pygments_lexer": "ipython3",
   "version": "3.9.16"
  }
 },
 "nbformat": 4,
 "nbformat_minor": 5
}
